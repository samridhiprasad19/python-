{
 "cells": [
  {
   "cell_type": "code",
   "execution_count": 1,
   "metadata": {},
   "outputs": [
    {
     "name": "stdout",
     "output_type": "stream",
     "text": [
      "Global Variable x =  10\n"
     ]
    }
   ],
   "source": [
    "x = 10\n",
    "def hey():\n",
    "      print(\"Global Variable x = \",x)\n",
    "hey()"
   ]
  },
  {
   "cell_type": "code",
   "execution_count": 2,
   "metadata": {},
   "outputs": [
    {
     "ename": "UnboundLocalError",
     "evalue": "local variable 'x' referenced before assignment",
     "output_type": "error",
     "traceback": [
      "\u001b[1;31m---------------------------------------------------------------------------\u001b[0m",
      "\u001b[1;31mUnboundLocalError\u001b[0m                         Traceback (most recent call last)",
      "\u001b[1;32m<ipython-input-2-3d3c24a0c01e>\u001b[0m in \u001b[0;36m<module>\u001b[1;34m()\u001b[0m\n\u001b[0;32m      4\u001b[0m     \u001b[0mx\u001b[0m \u001b[1;33m=\u001b[0m \u001b[0mx\u001b[0m\u001b[1;33m+\u001b[0m\u001b[1;36m10\u001b[0m\u001b[1;33m\u001b[0m\u001b[0m\n\u001b[0;32m      5\u001b[0m     \u001b[0mprint\u001b[0m\u001b[1;33m(\u001b[0m\u001b[0mx\u001b[0m\u001b[1;33m)\u001b[0m\u001b[1;33m\u001b[0m\u001b[0m\n\u001b[1;32m----> 6\u001b[1;33m \u001b[0mhey\u001b[0m\u001b[1;33m(\u001b[0m\u001b[1;33m)\u001b[0m\u001b[1;33m\u001b[0m\u001b[0m\n\u001b[0m",
      "\u001b[1;32m<ipython-input-2-3d3c24a0c01e>\u001b[0m in \u001b[0;36mhey\u001b[1;34m()\u001b[0m\n\u001b[0;32m      2\u001b[0m \u001b[0mx\u001b[0m \u001b[1;33m=\u001b[0m \u001b[1;36m10\u001b[0m\u001b[1;33m\u001b[0m\u001b[0m\n\u001b[0;32m      3\u001b[0m \u001b[1;32mdef\u001b[0m \u001b[0mhey\u001b[0m\u001b[1;33m(\u001b[0m\u001b[1;33m)\u001b[0m\u001b[1;33m:\u001b[0m\u001b[1;33m\u001b[0m\u001b[0m\n\u001b[1;32m----> 4\u001b[1;33m     \u001b[0mx\u001b[0m \u001b[1;33m=\u001b[0m \u001b[0mx\u001b[0m\u001b[1;33m+\u001b[0m\u001b[1;36m10\u001b[0m\u001b[1;33m\u001b[0m\u001b[0m\n\u001b[0m\u001b[0;32m      5\u001b[0m     \u001b[0mprint\u001b[0m\u001b[1;33m(\u001b[0m\u001b[0mx\u001b[0m\u001b[1;33m)\u001b[0m\u001b[1;33m\u001b[0m\u001b[0m\n\u001b[0;32m      6\u001b[0m \u001b[0mhey\u001b[0m\u001b[1;33m(\u001b[0m\u001b[1;33m)\u001b[0m\u001b[1;33m\u001b[0m\u001b[0m\n",
      "\u001b[1;31mUnboundLocalError\u001b[0m: local variable 'x' referenced before assignment"
     ]
    }
   ],
   "source": [
    "#global variable can only be accessed it cant be changed \n",
    "x = 10\n",
    "def hey():\n",
    "    x = x+10\n",
    "    print(x)\n",
    "hey()"
   ]
  },
  {
   "cell_type": "code",
   "execution_count": 3,
   "metadata": {},
   "outputs": [
    {
     "name": "stdout",
     "output_type": "stream",
     "text": [
      "Global variable x : 10\n",
      "20\n",
      "Global variable x : 10\n"
     ]
    }
   ],
   "source": [
    "x = 10\n",
    "def hey():\n",
    "    x = 10\n",
    "    x = x+10\n",
    "    print(x)\n",
    "print(\"Global variable x :\",x)\n",
    "hey()\n",
    "print(\"Global variable x :\",x)"
   ]
  },
  {
   "cell_type": "code",
   "execution_count": 6,
   "metadata": {},
   "outputs": [
    {
     "name": "stdout",
     "output_type": "stream",
     "text": [
      "Before function calling : 10\n",
      "In Function calling : 15\n",
      "After function calling: 15\n"
     ]
    }
   ],
   "source": [
    "#We can change global variable as :\n",
    "x =10\n",
    "def change():\n",
    "    global x \n",
    "    x = x + 5\n",
    "    print(\"In Function calling :\",x)\n",
    "print(\"Before function calling :\",x)\n",
    "change()\n",
    "print(\"After function calling:\",x)\n"
   ]
  },
  {
   "cell_type": "code",
   "execution_count": 8,
   "metadata": {},
   "outputs": [
    {
     "name": "stdout",
     "output_type": "stream",
     "text": [
      "16\n"
     ]
    }
   ],
   "source": [
    "#Lambda Function or Function(Inline function)(Most important)\n",
    "# fun_name = lamda arg1 , arg 2: defination\n",
    "add = lambda x,y : x+y\n",
    "print(add(10,6))\n"
   ]
  },
  {
   "cell_type": "code",
   "execution_count": 9,
   "metadata": {},
   "outputs": [
    {
     "name": "stdout",
     "output_type": "stream",
     "text": [
      "9\n"
     ]
    }
   ],
   "source": [
    "great = lambda p,q : q if q>p else p\n",
    "print(great(9,8))"
   ]
  },
  {
   "cell_type": "code",
   "execution_count": 15,
   "metadata": {},
   "outputs": [
    {
     "name": "stdout",
     "output_type": "stream",
     "text": [
      "6\n",
      "24\n"
     ]
    }
   ],
   "source": [
    "fact = lambda r : 1 if r == 1 else r * fact(r-1)\n",
    "print(fact(3))\n",
    "print(fact(4))"
   ]
  },
  {
   "cell_type": "code",
   "execution_count": 16,
   "metadata": {
    "collapsed": true
   },
   "outputs": [],
   "source": [
    "#Map Function\n",
    "#x = map(func,seq)"
   ]
  },
  {
   "cell_type": "code",
   "execution_count": 17,
   "metadata": {},
   "outputs": [
    {
     "name": "stdout",
     "output_type": "stream",
     "text": [
      "1 2  4 5 6 7\n",
      "[1, 2, 4, 5, 6, 7]\n"
     ]
    }
   ],
   "source": [
    "x = input().split()\n",
    "y = map(int,x)\n",
    "y = list(y)\n",
    "print(y)"
   ]
  },
  {
   "cell_type": "code",
   "execution_count": 25,
   "metadata": {},
   "outputs": [
    {
     "name": "stdout",
     "output_type": "stream",
     "text": [
      "12 32 1667 9871\n",
      "True True False False\n"
     ]
    }
   ],
   "source": [
    "x = (map(int,input().split()))\n",
    "print(*list(map(lambda x : \"True\" if x % 2 == 0 else \"False\",x)))"
   ]
  },
  {
   "cell_type": "code",
   "execution_count": 32,
   "metadata": {},
   "outputs": [
    {
     "name": "stdout",
     "output_type": "stream",
     "text": [
      "2 4 6 8\n"
     ]
    }
   ],
   "source": [
    "#Filter Function\n",
    "l = [1,2,3,4,5,6,7,8,9]\n",
    "r = filter(lambda x : True if x % 2 == 0 else False,l)\n",
    "print(*r)"
   ]
  },
  {
   "cell_type": "code",
   "execution_count": null,
   "metadata": {},
   "outputs": [
    {
     "name": "stdout",
     "output_type": "stream",
     "text": [
      "2\n",
      "Number is prime\n",
      "y\n",
      "12\n",
      "Number is not prime\n",
      "y\n",
      "67\n"
     ]
    }
   ],
   "source": [
    "def prime():\n",
    "    num = int(input())\n",
    "    if num <= 1 :\n",
    "        print(\"Not Prime\")\n",
    "        print(\"Error!Enter valid input\")\n",
    "        exit(0)\n",
    "    elif num <= 3 :\n",
    "        print(\"Number is prime\")\n",
    "        exit(0)\n",
    "    else :\n",
    "        c = 2\n",
    "        while c <= num//2 + 1 :\n",
    "            k = num % c\n",
    "            if k == 0:\n",
    "                print(\"Number is not prime\")\n",
    "                break;\n",
    "            elif k == num // 2 +1 :\n",
    "                print(\"Number is prime \")\n",
    "    if input():\n",
    "        prime()0\n",
    "    else :\n",
    "        print(\"Thanks for using our services.\")\n",
    "        \n",
    "\n",
    "        \n",
    "prime()\n",
    "    "
   ]
  },
  {
   "cell_type": "code",
   "execution_count": null,
   "metadata": {
    "collapsed": true
   },
   "outputs": [],
   "source": []
  }
 ],
 "metadata": {
  "kernelspec": {
   "display_name": "Python 3",
   "language": "python",
   "name": "python3"
  },
  "language_info": {
   "codemirror_mode": {
    "name": "ipython",
    "version": 3
   },
   "file_extension": ".py",
   "mimetype": "text/x-python",
   "name": "python",
   "nbconvert_exporter": "python",
   "pygments_lexer": "ipython3",
   "version": "3.6.3"
  }
 },
 "nbformat": 4,
 "nbformat_minor": 2
}
