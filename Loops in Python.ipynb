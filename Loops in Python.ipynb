{
 "cells": [
  {
   "cell_type": "markdown",
   "metadata": {},
   "source": [
    "# While loop\n",
    "1. WHILE LOOP\n",
    "2. FOR LOOP"
   ]
  },
  {
   "cell_type": "code",
   "execution_count": 1,
   "metadata": {
    "collapsed": true
   },
   "outputs": [],
   "source": [
    "while False :\n",
    "    print(\"Hello World\")"
   ]
  },
  {
   "cell_type": "code",
   "execution_count": 7,
   "metadata": {},
   "outputs": [
    {
     "name": "stdout",
     "output_type": "stream",
     "text": [
      "Hello World \n",
      "Hello World \n",
      "Hello World \n",
      "Hello World \n",
      "Hello World \n",
      "Hello World \n",
      "Hello World \n",
      "Hello World \n",
      "Hello World \n",
      "Hello World \n"
     ]
    }
   ],
   "source": [
    "c = 1\n",
    "while c <= 10 :\n",
    "    print(\"Hello World \")\n",
    "    c = c + 1\n",
    "print(\"Python is awesome\")    "
   ]
  },
  {
   "cell_type": "code",
   "execution_count": 11,
   "metadata": {},
   "outputs": [
    {
     "name": "stdout",
     "output_type": "stream",
     "text": [
      "1\t2\t3\t4\t5\t6\t7\t8\t9\t10\t11\t12\t13\t14\t15\t16\t17\t18\t19\t20\t21\t22\t23\t24\t25\t26\t27\t28\t29\t30\t31\t32\t33\t34\t35\t36\t37\t38\t39\t40\t41\t42\t43\t44\t45\t46\t47\t48\t49\t50\t51\t52\t53\t54\t55\t56\t57\t58\t59\t60\t61\t62\t63\t64\t65\t66\t67\t68\t69\t70\t71\t72\t73\t74\t75\t76\t77\t78\t79\t80\t81\t82\t83\t84\t85\t86\t87\t88\t89\t90\t91\t92\t93\t94\t95\t96\t97\t98\t99\t100\t"
     ]
    }
   ],
   "source": [
    "c = 1\n",
    "while c <= 100 :\n",
    "    print(c,end = '\\t')\n",
    "    c = c + 1\n"
   ]
  },
  {
   "cell_type": "code",
   "execution_count": 12,
   "metadata": {},
   "outputs": [
    {
     "name": "stdout",
     "output_type": "stream",
     "text": [
      "100, 99, 98, 97, 96, 95, 94, 93, 92, 91, 90, 89, 88, 87, 86, 85, 84, 83, 82, 81, 80, 79, 78, 77, 76, 75, 74, 73, 72, 71, 70, 69, 68, 67, 66, 65, 64, 63, 62, 61, 60, 59, 58, 57, 56, 55, 54, 53, 52, 51, 50, 49, 48, 47, 46, 45, 44, 43, 42, 41, 40, 39, 38, 37, 36, 35, 34, 33, 32, 31, 30, 29, 28, 27, 26, 25, 24, 23, 22, 21, 20, 19, 18, 17, 16, 15, 14, 13, 12, 11, 10, 9, 8, 7, 6, 5, 4, 3, 2, 1, "
     ]
    }
   ],
   "source": [
    "c = 100\n",
    "while c > 0 :\n",
    "    print(c , end = ', ')\n",
    "    c = c - 1\n"
   ]
  },
  {
   "cell_type": "code",
   "execution_count": 25,
   "metadata": {},
   "outputs": [
    {
     "name": "stdout",
     "output_type": "stream",
     "text": [
      "Enter a number :6\n",
      "6\t*\t1\t=\t6\n",
      "6\t*\t2\t=\t12\n",
      "6\t*\t3\t=\t18\n",
      "6\t*\t4\t=\t24\n",
      "6\t*\t5\t=\t30\n",
      "6\t*\t6\t=\t36\n",
      "6\t*\t7\t=\t42\n",
      "6\t*\t8\t=\t48\n",
      "6\t*\t9\t=\t54\n",
      "6\t*\t10\t=\t60\n"
     ]
    }
   ],
   "source": [
    "a = int(input(\"Enter a number :\"))\n",
    "c =1\n",
    "while c <= 10:\n",
    "    print (\"{}\\t*\\t{}\\t=\\t{}\" .format(a,c,a*c))\n",
    "    c = c+1"
   ]
  },
  {
   "cell_type": "code",
   "execution_count": 30,
   "metadata": {},
   "outputs": [
    {
     "name": "stdout",
     "output_type": "stream",
     "text": [
      "5050\n"
     ]
    }
   ],
   "source": [
    "a = 1\n",
    "num = 0\n",
    "while a<=100 :\n",
    "    num = a + num\n",
    "    a = a+1\n",
    "print(num)"
   ]
  },
  {
   "cell_type": "code",
   "execution_count": 5,
   "metadata": {},
   "outputs": [
    {
     "name": "stdout",
     "output_type": "stream",
     "text": [
      "Do you want to roll again :w\n",
      "2\n",
      "Do you want to roll again :ws\n",
      "3\n",
      "Do you want to roll again :g\n",
      "4\n",
      "Do you want to roll again :a\n",
      "5\n",
      "Do you want to roll again :j\n",
      "4\n",
      "Do you want to roll again :q\n",
      "1\n",
      "Do you want to roll again :l\n",
      "3\n",
      "Do you want to roll again :q\n",
      "3\n",
      "Do you want to roll again :s\n",
      "1\n",
      "Do you want to roll again :k\n",
      "4\n",
      "Do you want to roll again :a\n",
      "6\n",
      "Do you want to roll again :s\n",
      "1\n",
      "Do you want to roll again :\n"
     ]
    }
   ],
   "source": [
    "from random import randrange\n",
    "while input('Do you want to roll again :') :\n",
    "    com_guess = randrange(1,7)\n",
    "    print(com_guess)\n",
    "\n"
   ]
  },
  {
   "cell_type": "markdown",
   "metadata": {
    "collapsed": true
   },
   "source": [
    "# For Loop"
   ]
  },
  {
   "cell_type": "code",
   "execution_count": 6,
   "metadata": {
    "collapsed": true
   },
   "outputs": [],
   "source": [
    "#for x in seq (0 TO N-1)\n",
    "#Statement 1\n",
    "#Statement 2\n",
    "#  \"\n",
    "#  \"\n",
    "#Statement n"
   ]
  },
  {
   "cell_type": "code",
   "execution_count": 7,
   "metadata": {},
   "outputs": [
    {
     "name": "stdout",
     "output_type": "stream",
     "text": [
      "p\n",
      "y\n",
      "t\n",
      "h\n",
      "o\n",
      "n\n"
     ]
    }
   ],
   "source": [
    "for var in 'python' :\n",
    "    print(var)\n"
   ]
  },
  {
   "cell_type": "code",
   "execution_count": 11,
   "metadata": {},
   "outputs": [
    {
     "name": "stdout",
     "output_type": "stream",
     "text": [
      "1\t2\t3\t4\t5\t6\t7\t8\t9\t10\t"
     ]
    }
   ],
   "source": [
    "for var in [1,2,3,4,5,6,7,8,9,10] :\n",
    "    print(var,end = '\\t')\n"
   ]
  },
  {
   "cell_type": "code",
   "execution_count": 14,
   "metadata": {},
   "outputs": [
    {
     "name": "stdout",
     "output_type": "stream",
     "text": [
      "Enter a number:2\n",
      "2 * 1 = 2\n",
      "2 * 2 = 4\n",
      "2 * 3 = 6\n",
      "2 * 4 = 8\n",
      "2 * 5 = 10\n",
      "2 * 6 = 12\n",
      "2 * 7 = 14\n",
      "2 * 8 = 16\n",
      "2 * 9 = 18\n",
      "2 * 10 = 20\n"
     ]
    }
   ],
   "source": [
    "l = int(input('Enter a number:'))\n",
    "for var in [1,2,3,4,5,6,7,8,9,10]:\n",
    "     print(l,'*',var,'=',var*l)"
   ]
  },
  {
   "cell_type": "code",
   "execution_count": 15,
   "metadata": {},
   "outputs": [
    {
     "name": "stdout",
     "output_type": "stream",
     "text": [
      "hello\n",
      "hi\n",
      "how\n",
      "are\n",
      "you\n"
     ]
    }
   ],
   "source": [
    "l = ['hello','hi','how','are','you']\n",
    "for var in l:\n",
    "    print(var)"
   ]
  },
  {
   "cell_type": "code",
   "execution_count": 20,
   "metadata": {},
   "outputs": [
    {
     "name": "stdout",
     "output_type": "stream",
     "text": [
      "['hello', 'world', 'how', 'are', 'you']\n",
      "hello-world-how-are-you\n",
      "h*#e*#l*#l*#o*# *#w*#o*#r*#l*#d*# *#h*#o*#w*# *#a*#r*#e*# *#y*#o*#u\n"
     ]
    }
   ],
   "source": [
    "s = 'hello world how are you'\n",
    "k = s.split()\n",
    "print(k)\n",
    "l = '-'.join(k)\n",
    "print(l)\n",
    "x = '*#'.join(s)\n",
    "print(x)"
   ]
  },
  {
   "cell_type": "code",
   "execution_count": 21,
   "metadata": {
    "collapsed": true
   },
   "outputs": [],
   "source": [
    "#for loops works on sequence it takes sequence as arguments."
   ]
  },
  {
   "cell_type": "code",
   "execution_count": 23,
   "metadata": {},
   "outputs": [
    {
     "name": "stdout",
     "output_type": "stream",
     "text": [
      "<class 'range'>\n",
      "range(1, 5, 2)\n",
      "1 3\n"
     ]
    }
   ],
   "source": [
    "#Range function\n",
    "#k = range(start,end,step)\n",
    "k = range(1,5,2)\n",
    "print(type(k))\n",
    "print(k)\n",
    "print(*k)\n"
   ]
  },
  {
   "cell_type": "code",
   "execution_count": 24,
   "metadata": {},
   "outputs": [
    {
     "name": "stdout",
     "output_type": "stream",
     "text": [
      "100 99 98 97 96 95 94 93 92 91 90 89 88 87 86 85 84 83 82 81 80 79 78 77 76 75 74 73 72 71 70 69 68 67 66 65 64 63 62 61 60 59 58 57 56 55 54 53 52 51 50 49 48 47 46 45 44 43 42 41 40 39 38 37 36 35 34 33 32 31 30 29 28 27 26 25 24 23 22 21 20 19 18 17 16 15 14 13 12 11 10 9 8 7 6 5 4 3 2 1\n"
     ]
    }
   ],
   "source": [
    "print(*range(100,0,-1))"
   ]
  },
  {
   "cell_type": "code",
   "execution_count": 2,
   "metadata": {},
   "outputs": [
    {
     "name": "stdout",
     "output_type": "stream",
     "text": [
      "Enter the starting range :1\n",
      "Enter the ending range :100\n",
      "Enter the factor :5\n",
      "5\n",
      "10\n",
      "15\n",
      "20\n",
      "25\n",
      "30\n",
      "35\n",
      "40\n",
      "45\n",
      "50\n",
      "55\n",
      "60\n",
      "65\n",
      "70\n",
      "75\n",
      "80\n",
      "85\n",
      "90\n",
      "95\n",
      "100\n"
     ]
    }
   ],
   "source": [
    "s = int(input(\"Enter the starting range :\"))\n",
    "e = int(input(\"Enter the ending range :\"))\n",
    "f = int(input(\"Enter the factor :\"))\n",
    "for var in range(s,e+1):\n",
    "     if var % f == 0 :\n",
    "        print(var)\n",
    "    "
   ]
  },
  {
   "cell_type": "code",
   "execution_count": 10,
   "metadata": {},
   "outputs": [
    {
     "name": "stdout",
     "output_type": "stream",
     "text": [
      "Enter the starting range :100\n",
      "Enter the ending range :3\n",
      "Enter the factor :3\n",
      "99\t96\t93\t90\t87\t84\t81\t78\t75\t72\t69\t66\t63\t60\t57\t54\t51\t48\t45\t42\t39\t36\t33\t30\t27\t24\t21\t18\t15\t12\t9\t6\t"
     ]
    }
   ],
   "source": [
    "s = int(input(\"Enter the starting range :\"))\n",
    "e = int(input(\"Enter the ending range :\"))\n",
    "f = int(input(\"Enter the factor :\"))\n",
    "for var in range(s,e,-1):\n",
    "     if var % f == 0 :\n",
    "        print(var,end = '\\t')"
   ]
  },
  {
   "cell_type": "code",
   "execution_count": null,
   "metadata": {
    "collapsed": true
   },
   "outputs": [],
   "source": [
    "for var in range(-16,-18,2):\n",
    "    print(var)#there is not possible as condition is wrong"
   ]
  },
  {
   "cell_type": "code",
   "execution_count": 8,
   "metadata": {},
   "outputs": [
    {
     "name": "stdout",
     "output_type": "stream",
     "text": [
      "-100\t-99\t-98\t-97\t-96\t-95\t-94\t-93\t-92\t-91\t-90\t-89\t-88\t-87\t-86\t-85\t-84\t-83\t-82\t-81\t-80\t-79\t-78\t-77\t-76\t-75\t-74\t-73\t-72\t-71\t-70\t-69\t-68\t-67\t-66\t-65\t-64\t-63\t-62\t-61\t-60\t-59\t-58\t-57\t-56\t-55\t-54\t-53\t-52\t-51\t-50\t-49\t-48\t-47\t-46\t-45\t-44\t-43\t-42\t-41\t-40\t-39\t-38\t-37\t-36\t-35\t-34\t-33\t-32\t-31\t-30\t-29\t-28\t-27\t-26\t-25\t-24\t-23\t-22\t-21\t-20\t-19\t-18\t-17\t-16\t-15\t-14\t-13\t-12\t-11\t-10\t-9\t-8\t-7\t-6\t-5\t-4\t-3\t-2\t-1\t"
     ]
    }
   ],
   "source": [
    "for var in range(-100,0,1):\n",
    "    print(var,end ='\\t')\n",
    " "
   ]
  },
  {
   "cell_type": "code",
   "execution_count": 5,
   "metadata": {},
   "outputs": [
    {
     "name": "stdout",
     "output_type": "stream",
     "text": [
      "-5\t-10\t-15\t-20\t-25\t-30\t-35\t-40\t-45\t-50\t-55\t-60\t-65\t-70\t-75\t-80\t-85\t-90\t-95\t"
     ]
    }
   ],
   "source": [
    "for var in range(-5,-100,-5):\n",
    "    print(var,end ='\\t')"
   ]
  },
  {
   "cell_type": "code",
   "execution_count": 4,
   "metadata": {},
   "outputs": [
    {
     "name": "stdout",
     "output_type": "stream",
     "text": [
      "Hello World\n",
      "Hello World\n",
      "Hello World\n",
      "Hello World\n",
      "Hello World\n",
      "Hello World\n",
      "Hello World\n",
      "Hello World\n",
      "Hello World\n",
      "Hello World\n",
      "Python is awesome\n"
     ]
    }
   ],
   "source": [
    "for var in range(1,11) :\n",
    "     print(\"Hello World\")\n",
    "print(\"Python is awesome\")\n"
   ]
  },
  {
   "cell_type": "code",
   "execution_count": 6,
   "metadata": {},
   "outputs": [
    {
     "name": "stdout",
     "output_type": "stream",
     "text": [
      "1\t2\t3\t4\t5\t6\t7\t8\t9\t10\t11\t12\t13\t14\t15\t16\t17\t18\t19\t20\t21\t22\t23\t24\t25\t26\t27\t28\t29\t30\t31\t32\t33\t34\t35\t36\t37\t38\t39\t40\t41\t42\t43\t44\t45\t46\t47\t48\t49\t50\t51\t52\t53\t54\t55\t56\t57\t58\t59\t60\t61\t62\t63\t64\t65\t66\t67\t68\t69\t70\t71\t72\t73\t74\t75\t76\t77\t78\t79\t80\t81\t82\t83\t84\t85\t86\t87\t88\t89\t90\t91\t92\t93\t94\t95\t96\t97\t98\t99\t100\t"
     ]
    }
   ],
   "source": [
    "for var in range(1,101) :\n",
    "    print(var,end = \"\\t\")\n"
   ]
  },
  {
   "cell_type": "code",
   "execution_count": 8,
   "metadata": {},
   "outputs": [
    {
     "name": "stdout",
     "output_type": "stream",
     "text": [
      "100\t99\t98\t97\t96\t95\t94\t93\t92\t91\t90\t89\t88\t87\t86\t85\t84\t83\t82\t81\t80\t79\t78\t77\t76\t75\t74\t73\t72\t71\t70\t69\t68\t67\t66\t65\t64\t63\t62\t61\t60\t59\t58\t57\t56\t55\t54\t53\t52\t51\t50\t49\t48\t47\t46\t45\t44\t43\t42\t41\t40\t39\t38\t37\t36\t35\t34\t33\t32\t31\t30\t29\t28\t27\t26\t25\t24\t23\t22\t21\t20\t19\t18\t17\t16\t15\t14\t13\t12\t11\t10\t9\t8\t7\t6\t5\t4\t3\t2\t1\t"
     ]
    }
   ],
   "source": [
    "for var in range(100,0,-1):\n",
    "    print(var,end = '\\t')"
   ]
  },
  {
   "cell_type": "code",
   "execution_count": 2,
   "metadata": {},
   "outputs": [
    {
     "name": "stdout",
     "output_type": "stream",
     "text": [
      "5\t10\t15\t20\t25\t30\t35\t40\t45\t50\t55\t60\t65\t70\t75\t80\t85\t90\t95\t100\t"
     ]
    }
   ],
   "source": [
    "c = 1\n",
    "while c <= 100:\n",
    "    if c % 5 == 0:\n",
    "        print(c, end = '\\t')\n",
    "    c = c + 1"
   ]
  },
  {
   "cell_type": "code",
   "execution_count": 3,
   "metadata": {},
   "outputs": [
    {
     "name": "stdout",
     "output_type": "stream",
     "text": [
      "1\n",
      "2\n",
      "3\n",
      "4\n",
      "5\n",
      "6\n",
      "7\n",
      "8\n",
      "9\n",
      "10\n",
      "Hello Python\n"
     ]
    }
   ],
   "source": [
    "# while else loop\n",
    "c = 1\n",
    "while c <= 10 :\n",
    "    print(c)\n",
    "    c = c + 1\n",
    "else :\n",
    "    print(\"Hello Python\")\n"
   ]
  },
  {
   "cell_type": "code",
   "execution_count": 6,
   "metadata": {},
   "outputs": [
    {
     "name": "stdout",
     "output_type": "stream",
     "text": [
      "Enter the number: 1\n",
      "Enter the number: 2\n",
      "Enter the number: 3\n",
      "Enter the number: 4\n",
      "Enter the number: 5\n",
      "Enter the number: 6\n",
      "Enter the number: 7\n",
      "Enter the number: 8\n",
      "Enter the number: 9\n",
      "Enter the number: 10\n",
      "[1, 2, 3, 4, 5, 6, 7, 8, 9, 10]\n"
     ]
    }
   ],
   "source": [
    "c = 1\n",
    "l = []\n",
    "while c <= 10 :\n",
    "    r = int(input(\"Enter the number: \"))\n",
    "    l.append(r)\n",
    "    c = c + 1\n",
    "print(l)"
   ]
  },
  {
   "cell_type": "code",
   "execution_count": 15,
   "metadata": {
    "scrolled": true
   },
   "outputs": [
    {
     "name": "stdout",
     "output_type": "stream",
     "text": [
      "Enter the number of times you want to enter number :3\n",
      "Enter the number 1 : 12\n",
      "Enter the number 2 : 10\n",
      "Enter the number 3 : 23\n",
      "[12, 10, 23]\n"
     ]
    }
   ],
   "source": [
    "d = int(input(\"Enter the number of times you want to enter number :\"))\n",
    "c = 1\n",
    "l = []\n",
    "while c <= d :\n",
    "    r = int(input(\"Enter the number {} : \".format(c)))\n",
    "    l.append(r)\n",
    "    c = c + 1\n",
    "print(l)"
   ]
  },
  {
   "cell_type": "code",
   "execution_count": 14,
   "metadata": {},
   "outputs": [
    {
     "name": "stdout",
     "output_type": "stream",
     "text": [
      "-30 -29 -28 -27 -26 -25 -24 -23 -22 -21 -20 -19 -18 -17 -16 -15 -14 -13 -12 -11 -10 -9 -8 -7 -6 -5 -4 -3 -2\n"
     ]
    }
   ],
   "source": [
    "print(*range(-30,-1))"
   ]
  },
  {
   "cell_type": "code",
   "execution_count": 5,
   "metadata": {},
   "outputs": [
    {
     "name": "stdout",
     "output_type": "stream",
     "text": [
      "1 Hello World\n",
      "3 Hello World\n",
      "5 Hello World\n",
      "7 Hello World\n",
      "9 Hello World\n",
      "11 Hello World\n",
      "13 Hello World\n",
      "15 Hello World\n",
      "17 Hello World\n",
      "19 Hello World\n",
      "21 Hello World\n",
      "Bye Bye\n"
     ]
    }
   ],
   "source": [
    "for var in range(50):\n",
    "    if var % 2 == 0:\n",
    "        continue#JUMPS LOOP ON TOP ...\n",
    "    elif var == 23:\n",
    "        print(\"Bye Bye\")\n",
    "        break\n",
    "    print(var,\"Hello World\")"
   ]
  },
  {
   "cell_type": "code",
   "execution_count": null,
   "metadata": {
    "collapsed": true
   },
   "outputs": [],
   "source": []
  },
  {
   "cell_type": "code",
   "execution_count": null,
   "metadata": {
    "collapsed": true
   },
   "outputs": [],
   "source": []
  }
 ],
 "metadata": {
  "kernelspec": {
   "display_name": "Python 3",
   "language": "python",
   "name": "python3"
  },
  "language_info": {
   "codemirror_mode": {
    "name": "ipython",
    "version": 3
   },
   "file_extension": ".py",
   "mimetype": "text/x-python",
   "name": "python",
   "nbconvert_exporter": "python",
   "pygments_lexer": "ipython3",
   "version": "3.6.3"
  }
 },
 "nbformat": 4,
 "nbformat_minor": 2
}
