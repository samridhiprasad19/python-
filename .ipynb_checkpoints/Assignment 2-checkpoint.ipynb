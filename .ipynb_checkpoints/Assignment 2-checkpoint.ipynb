{
 "cells": [
  {
   "cell_type": "code",
   "execution_count": 1,
   "metadata": {},
   "outputs": [
    {
     "name": "stdout",
     "output_type": "stream",
     "text": [
      "Hello World!\n"
     ]
    }
   ],
   "source": [
    "#print hello world\n",
    "print(\"Hello World!\")"
   ]
  },
  {
   "cell_type": "code",
   "execution_count": 2,
   "metadata": {},
   "outputs": [
    {
     "name": "stdout",
     "output_type": "stream",
     "text": [
      "Enter the first number :12\n",
      "Enter the second number :12\n",
      "The sum of 12 and 12 = 24\n"
     ]
    }
   ],
   "source": [
    "#add two Numbers\n",
    "a = int(input(\"Enter the first number :\"))\n",
    "b = int(input(\"Enter the second number :\")) \n",
    "print(\"The sum of {} and {} = {}\".format(a,b,a+b))"
   ]
  },
  {
   "cell_type": "code",
   "execution_count": 3,
   "metadata": {},
   "outputs": [
    {
     "name": "stdout",
     "output_type": "stream",
     "text": [
      "Enter a number :4\n",
      "The square root of number is 2.0 :\n"
     ]
    }
   ],
   "source": [
    "import math \n",
    "a = int(input(\"Enter a number :\"))\n",
    "b = math.sqrt(a)\n",
    "print(\"The square root of number is {} :\".format(b))"
   ]
  },
  {
   "cell_type": "code",
   "execution_count": 4,
   "metadata": {},
   "outputs": [
    {
     "name": "stdout",
     "output_type": "stream",
     "text": [
      "Enter the height of the traingle :3\n",
      "Enter the base of the traingle :4\n",
      "Area of trainge is {}: 6.0\n"
     ]
    }
   ],
   "source": [
    "#area of a traingle \n",
    "a = int(input(\"Enter the height of the traingle :\"))\n",
    "b = int(input(\"Enter the base of the traingle :\"))\n",
    "area = (1*a*b)/2\n",
    "print(\"Area of trainge is {}:\",area)"
   ]
  },
  {
   "cell_type": "code",
   "execution_count": 5,
   "metadata": {},
   "outputs": [
    {
     "name": "stdout",
     "output_type": "stream",
     "text": [
      "Enter the first variable :12\n",
      "Enter the second variable :43\n",
      "Variables before swapping a = 12 \t b = 43\n",
      "Variables after swapping a = 43 \t b = 12\n"
     ]
    }
   ],
   "source": [
    "#swap two variables\n",
    "a = int(input(\"Enter the first variable :\"))\n",
    "b = int(input(\"Enter the second variable :\"))\n",
    "print(\"Variables before swapping a = {} \\t b = {}\".format(a,b))\n",
    "a,b = b,a\n",
    "print(\"Variables after swapping a = {} \\t b = {}\".format(a,b))"
   ]
  },
  {
   "cell_type": "code",
   "execution_count": 10,
   "metadata": {},
   "outputs": [
    {
     "name": "stdout",
     "output_type": "stream",
     "text": [
      "37\n"
     ]
    }
   ],
   "source": [
    "from random import randrange\n",
    "print(randrange(1,100))"
   ]
  },
  {
   "cell_type": "code",
   "execution_count": 14,
   "metadata": {},
   "outputs": [
    {
     "name": "stdout",
     "output_type": "stream",
     "text": [
      "Enter distance in kilometer :4\n",
      "Distance in miles is 2.485484:\n"
     ]
    }
   ],
   "source": [
    "#Conversion from km to miles\n",
    "a = int(input(\"Enter distance in kilometer :\"))\n",
    "print(\"Distance in miles is {}:\".format(a*0.621371))"
   ]
  },
  {
   "cell_type": "code",
   "execution_count": 16,
   "metadata": {},
   "outputs": [
    {
     "name": "stdout",
     "output_type": "stream",
     "text": [
      "Enter temperature in celsius :32\n",
      "Temperature in Fahrenheit is 89.6:\n"
     ]
    }
   ],
   "source": [
    "#Conversion from celsius to fahrenheit\n",
    "a = int(input(\"Enter temperature in celsius :\"))\n",
    "print(\"Temperature in Fahrenheit is {}:\".format((a*89.6)/32))"
   ]
  },
  {
   "cell_type": "code",
   "execution_count": 19,
   "metadata": {},
   "outputs": [
    {
     "name": "stdout",
     "output_type": "stream",
     "text": [
      "Enter a number :9\n",
      "Number entered is positive\n"
     ]
    }
   ],
   "source": [
    "#check whether number is negative positive or zero\n",
    "a = int(input(\"Enter a number :\"))\n",
    "if a > 0 :\n",
    "    print(\"Number entered is positive\")\n",
    "elif a < 0 :\n",
    "    print(\"Number entered is negative\")\n",
    "else :\n",
    "    print(\"Number entered is zero\")"
   ]
  },
  {
   "cell_type": "code",
   "execution_count": 5,
   "metadata": {},
   "outputs": [
    {
     "name": "stdout",
     "output_type": "stream",
     "text": [
      "['__add__', '__class__', '__contains__', '__delattr__', '__dir__', '__doc__', '__eq__', '__format__', '__ge__', '__getattribute__', '__getitem__', '__getnewargs__', '__gt__', '__hash__', '__init__', '__init_subclass__', '__iter__', '__le__', '__len__', '__lt__', '__mod__', '__mul__', '__ne__', '__new__', '__reduce__', '__reduce_ex__', '__repr__', '__rmod__', '__rmul__', '__setattr__', '__sizeof__', '__str__', '__subclasshook__', 'capitalize', 'casefold', 'center', 'count', 'encode', 'endswith', 'expandtabs', 'find', 'format', 'format_map', 'index', 'isalnum', 'isalpha', 'isdecimal', 'isdigit', 'isidentifier', 'islower', 'isnumeric', 'isprintable', 'isspace', 'istitle', 'isupper', 'join', 'ljust', 'lower', 'lstrip', 'maketrans', 'partition', 'replace', 'rfind', 'rindex', 'rjust', 'rpartition', 'rsplit', 'rstrip', 'split', 'splitlines', 'startswith', 'strip', 'swapcase', 'title', 'translate', 'upper', 'zfill']\n",
      "sOMEThiNG\n"
     ]
    }
   ],
   "source": [
    "s = \"Something\"\n",
    "print(dir(s))\n",
    "s1 = \"SometHIng\"\n",
    "print(s1.swapcase())\n"
   ]
  },
  {
   "cell_type": "code",
   "execution_count": null,
   "metadata": {
    "collapsed": true
   },
   "outputs": [],
   "source": [
    "def is_leap(year):\n",
    "    if year % 4 == 0 and year % 100 != 0: \n",
    "        leap = \"True\"\n",
    "    elif year % 100 == 0 and year % 400 == 0:\n",
    "        leap = \"True\"\n",
    "    else :\n",
    "        leap = \"False\"\n",
    "    return leap\n",
    "\n",
    "\n",
    "year = int(input(\"Enter number to check\"))\n",
    "print(is_leap(year))"
   ]
  },
  {
   "cell_type": "code",
   "execution_count": null,
   "metadata": {
    "collapsed": true
   },
   "outputs": [],
   "source": []
  }
 ],
 "metadata": {
  "kernelspec": {
   "display_name": "Python 3",
   "language": "python",
   "name": "python3"
  },
  "language_info": {
   "codemirror_mode": {
    "name": "ipython",
    "version": 3
   },
   "file_extension": ".py",
   "mimetype": "text/x-python",
   "name": "python",
   "nbconvert_exporter": "python",
   "pygments_lexer": "ipython3",
   "version": "3.6.3"
  }
 },
 "nbformat": 4,
 "nbformat_minor": 2
}
