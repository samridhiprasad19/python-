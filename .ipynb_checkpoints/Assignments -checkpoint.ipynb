{
 "cells": [
  {
   "cell_type": "code",
   "execution_count": 1,
   "metadata": {},
   "outputs": [
    {
     "name": "stdout",
     "output_type": "stream",
     "text": [
      "here is integer 5 type <class 'int'>\n",
      "Here is float 6.7 type <class 'float'>\n",
      "Here is complex (4+5j) type <class 'complex'>\n",
      "Here is string python type <class 'str'>\n"
     ]
    }
   ],
   "source": [
    "#starting data types\n",
    "x = 5 \n",
    "y = 6.7\n",
    "z = 4 + 5j\n",
    "name = \"python\"\n",
    "print(\"here is integer\",x,\"type\",type(x))\n",
    "print(\"Here is float\",y,\"type\",type(y))\n",
    "print(\"Here is complex\",z,\"type\",type(z))\n",
    "print(\"Here is string\",name,\"type\",type(name))"
   ]
  },
  {
   "cell_type": "code",
   "execution_count": 2,
   "metadata": {},
   "outputs": [
    {
     "name": "stdout",
     "output_type": "stream",
     "text": [
      "He said india is rising country\n",
      " \n",
      "This is line 1\n",
      "This is line 2\n",
      "     This is para change\n",
      "see it\n",
      "\n"
     ]
    }
   ],
   "source": [
    "print(\"He said india is rising country\")\n",
    "para = ''' \n",
    "This is line 1\n",
    "This is line 2\n",
    "     This is para change\n",
    "see it\n",
    "'''\n",
    "print(para)"
   ]
  },
  {
   "cell_type": "code",
   "execution_count": 5,
   "metadata": {},
   "outputs": [
    {
     "name": "stdout",
     "output_type": "stream",
     "text": [
      "[1, 2, 3]\n",
      "[1.6, 3.14, 6.2]\n",
      "['hello', 'hi', 'bye']\n",
      "[1, 3.14, (4+5j), 'python', [1, 2, 3]]\n",
      "1 2 3\n"
     ]
    }
   ],
   "source": [
    "#Introduction to list\n",
    "mylist = [1,2,3]\n",
    "list2  =  [1.6,3.14,6.2]\n",
    "list3  = ['hello','hi','bye']\n",
    "list4  = [1,3.14,4+5j,'python', [1,2,3]]\n",
    "print(mylist)\n",
    "print(list2)\n",
    "print(list3)\n",
    "print(list4)\n",
    "print(*mylist)"
   ]
  },
  {
   "cell_type": "code",
   "execution_count": 7,
   "metadata": {},
   "outputs": [
    {
     "name": "stdout",
     "output_type": "stream",
     "text": [
      "15 = 15\n",
      "86 = 86\n",
      "12 = 12\n"
     ]
    }
   ],
   "source": [
    "#Indexing is supported in list\n",
    "mylist = [36,24,15,12,86]\n",
    "print(mylist[2],'=',mylist[-3])\n",
    "print(mylist[4],'=',mylist[-1])\n",
    "print(mylist[3],'=',mylist[-2])"
   ]
  },
  {
   "cell_type": "code",
   "execution_count": 8,
   "metadata": {},
   "outputs": [
    {
     "name": "stdout",
     "output_type": "stream",
     "text": [
      "hello world\n",
      "good to go\n",
      "python is a good language\n",
      "9.14\n"
     ]
    }
   ],
   "source": [
    "mylist = [ 'hello world',3.14,'python is a good language',1,2,3,'good to go']\n",
    "print(mylist[0])\n",
    "print(mylist[-1])\n",
    "print(mylist[2])\n",
    "sum = mylist[1] + mylist[-2] + mylist[3] + mylist [-3]\n",
    "print(sum)"
   ]
  },
  {
   "cell_type": "code",
   "execution_count": 10,
   "metadata": {},
   "outputs": [
    {
     "name": "stdout",
     "output_type": "stream",
     "text": [
      "['python', 'c', 'c++', 'java', 'perl', 'ruby', 'swift']\n",
      "['python', 'c', 'c++', 'java', 'perl', 'ruby', 'php']\n",
      "['python', 'c', '.NET', 'java', 'perl', 'ruby', 'php']\n",
      "['java', 'perl', 'ruby']\n",
      "['python', 'c', '.NET', 'java', 'perl', 'ruby', 'php']\n",
      "['java', 'perl', 'ruby', 'php']\n",
      "['python', 'c', '.NET', 'java']\n",
      "['.NET', 'ruby']\n"
     ]
    }
   ],
   "source": [
    "#replacing and adding data to list\n",
    "mylist = ['python','c','c++','java','perl','ruby','swift']\n",
    "length = len(mylist)\n",
    "print(mylist)\n",
    "mylist[length-1]= 'php'\n",
    "print(mylist)\n",
    "mylist[2]='.NET'\n",
    "print(mylist)\n",
    "print(mylist[3:6])\n",
    "print(mylist[:])\n",
    "print(mylist[3:])\n",
    "print(mylist[:4])\n",
    "print(mylist[2:6:3])"
   ]
  },
  {
   "cell_type": "code",
   "execution_count": 6,
   "metadata": {},
   "outputs": [
    {
     "name": "stdout",
     "output_type": "stream",
     "text": [
      "Enter donor's blood group :AB-\n",
      "Enter reciever's blood group :A+\n",
      "Sorry! you can't donate blood\n"
     ]
    }
   ],
   "source": [
    "#Blood donor checking\n",
    "x = input(\"Enter donor's blood group :\").upper()\n",
    "y = input(\"Enter reciever's blood group :\").upper()\n",
    "if y == \"O-\" :\n",
    "    if x == \"O-\":\n",
    "        print(\"Congrats! you can donate blood\")\n",
    "    else :\n",
    "        print(\"Sorry! you can't donate blood\")\n",
    "elif y == \"O+\" :\n",
    "     if x == \"O+\" or x == \"O-\" :\n",
    "        print(\"Congrats! you can donate blood\")\n",
    "     else :\n",
    "        print(\"Sorry! you can't donate blood\")\n",
    "elif y == \"A-\" :\n",
    "    if x == \"A-\" or x == \"A+\" :\n",
    "        print(\"Congrats! you can donate blood\")\n",
    "    else :\n",
    "        print(\"Sorry! you can't donate blood\")\n",
    "elif y == \"A+\" :\n",
    "    if x == \"A+\" or x == \"A-\" or x == \"O+\" or x == \"O-\" :\n",
    "        print(\"Congrats! you can donate blood\")\n",
    "    else :\n",
    "        print(\"Sorry! you can't donate blood\")\n",
    "else :\n",
    "    print(\"Invalid case\")\n",
    "    \n",
    "\n",
    "           "
   ]
  },
  {
   "cell_type": "code",
   "execution_count": 2,
   "metadata": {},
   "outputs": [
    {
     "name": "stdout",
     "output_type": "stream",
     "text": [
      "Enter donor's blood group :o+\n",
      "Enter reciever's blood group :AB+\n",
      "Congrats you can donate blood\n"
     ]
    }
   ],
   "source": [
    "x = input(\"Enter donor's blood group :\").upper().strip()\n",
    "y = input(\"Enter reciever's blood group :\").upper().strip()\n",
    "if y == \"O-\" and x == \"O-\":\n",
    "     print(\"Congrats! you can donate blood\")\n",
    "elif y == \"O+\" and ( x == \"O+\" or x == \"O-\"):\n",
    "     print(\"Congrats! you can donate blood\")\n",
    "elif y == \"A-\" and (x == \"A-\" or x == \"A+\") :\n",
    "     print(\"Congrats! you can donate blood\")\n",
    "elif y == \"A+\" and (x == \"A+\" or x == \"A-\" or x == \"O+\" or x == \"O-\") :\n",
    "    print(\"Congrats! you can donate blood\")\n",
    "elif y == \"B-\" and (x == \"B-\" or x == \"O-\"):\n",
    "    print(\"Congrats you can donate blood\")\n",
    "elif y == \"B+\" and (x ==\"B+\" or x == \"B-\" or x == \"O+\" or x == \"O-\"):\n",
    "    print(\"Congrats you can donate blood\")\n",
    "elif y == \"AB-\" and (x == \"AB-\" or x == \"O-\" or x == \"B-\" or x == \"A-\"):\n",
    "     print(\"Congrats you can donate blood\")\n",
    "elif y == \"AB+\" and (x == \"AB-\" or x == \"O-\" or x == \"B-\" or x == \"A-\" or x == \"A+\" or x == \"B+\" or x == \"AB+\" or x == \"O+\"):\n",
    "     print(\"Congrats you can donate blood\")\n",
    "else :\n",
    "    print(\"Sorry! you can't donate blood\")\n",
    "\n",
    "    "
   ]
  },
  {
   "cell_type": "code",
   "execution_count": 1,
   "metadata": {},
   "outputs": [
    {
     "name": "stdout",
     "output_type": "stream",
     "text": [
      "Enter a number :12\n",
      "Enter a number :34\n",
      "Enter a number :56\n",
      "Enter a number :78\n",
      "Enter a number :12\n"
     ]
    }
   ],
   "source": [
    "from random import randrange\n",
    "e = 1\n",
    "c = randrange(1,100)\n",
    "d = int(input(\"Enter a number :\"))\n",
    "while e <= 4 :\n",
    "    \n",
    "    if (c == d):\n",
    "        print(\"You are winner\")\n",
    "    elif c>d :\n",
    "        d = int(input(\"Enter a number :\")) \n",
    "    e = e+1\n",
    "\n",
    "        \n",
    "\n",
    "    \n"
   ]
  },
  {
   "cell_type": "code",
   "execution_count": 1,
   "metadata": {},
   "outputs": [
    {
     "name": "stdout",
     "output_type": "stream",
     "text": [
      "Enter the reciever's blood group:A+\n",
      "Enter the donor's blood group :b+\n",
      "Sorry!You can't donate blood\n"
     ]
    }
   ],
   "source": [
    "d1 = { 'O-' : 'O-',\n",
    "       'O+' : ['O-','O+'],\n",
    "       'A-' : ['A-','O-'],\n",
    "       'A+' : ['A+','A-','O+','O-'],\n",
    "       'B-' : ['B-','O-'],\n",
    "       'B+' : ['B+','B-','O-','O+'],\n",
    "       'AB-': ['AB-','B-','A-','O-'],\n",
    "       'AB+': ['AB+','AB-','B+','B-','A+','A-','O+','O-']\n",
    "    \n",
    "     }\n",
    "r = input(\"Enter the reciever's blood group:\").upper().strip()\n",
    "d = input(\"Enter the donor's blood group :\").upper().strip()\n",
    "if d in d1[r]:\n",
    "    print(\"Congrats!You can donate blood\")\n",
    "else :\n",
    "    print(\"Sorry!You can't donate blood\")\n",
    "\n",
    " \n"
   ]
  },
  {
   "cell_type": "code",
   "execution_count": 28,
   "metadata": {},
   "outputs": [
    {
     "name": "stdout",
     "output_type": "stream",
     "text": [
      "Enter the number to be checked to be prime or not12\n",
      "Number is not prime\n"
     ]
    }
   ],
   "source": [
    "#prime numbers \n",
    "p = int(input(\"Enter the number to be checked to be prime or not\"))\n",
    "c = 2\n",
    "flag = 0\n",
    "while c < p :\n",
    "        if p%c == 0:\n",
    "            flag = 1\n",
    "            break \n",
    "           \n",
    "        else :\n",
    "            flag = 0\n",
    "        c = c+1\n",
    "if flag == 1 :\n",
    "    print(\"Number is not prime\")\n",
    "else :\n",
    "    print(\"Number is prime\")"
   ]
  },
  {
   "cell_type": "code",
   "execution_count": 45,
   "metadata": {},
   "outputs": [
    {
     "name": "stdout",
     "output_type": "stream",
     "text": [
      "Enter the number you want to check is palidrome or not :121\n",
      "Number is Palidrome\n"
     ]
    }
   ],
   "source": [
    "l = int(input(\"Enter the number you want to check is palidrome or not :\"))\n",
    "rev = 0\n",
    "i = l\n",
    "while l > 0 : \n",
    "    rem = l % 10\n",
    "    rev = rev * 10 + rem \n",
    "    l = l//10\n",
    "if rev == i :\n",
    "    print(\"Number is Palidrome\")\n",
    "else : \n",
    "    print(\"Number is not Palidrome\")\n",
    "   \n"
   ]
  },
  {
   "cell_type": "code",
   "execution_count": 6,
   "metadata": {},
   "outputs": [
    {
     "name": "stdout",
     "output_type": "stream",
     "text": [
      "Enter the starting number of range :8\n",
      "Enter the last range of number :90\n",
      "9\t11\t13\t15\t17\t19\t21\t23\t25\t27\t29\t31\t33\t35\t37\t39\t41\t43\t45\t47\t49\t51\t53\t55\t57\t59\t61\t63\t65\t67\t69\t71\t73\t75\t77\t79\t81\t83\t85\t87\t89\t"
     ]
    }
   ],
   "source": [
    "p = int(input(\"Enter the starting number of range :\"))\n",
    "j = int(input(\"Enter the last range of number :\"))\n",
    "c = 2\n",
    "while p < j :\n",
    "    if p % c == 0 :\n",
    "        pass \n",
    "    else :\n",
    "        print(p,end = '\\t')\n",
    "    p = p+1\n"
   ]
  },
  {
   "cell_type": "code",
   "execution_count": 9,
   "metadata": {},
   "outputs": [
    {
     "name": "stdout",
     "output_type": "stream",
     "text": [
      "Enter a number :12\n",
      "12 / 2 = 6, 0\n",
      "12 / 3 = 4, 0\n",
      "12 / 4 = 3, 0\n",
      "12 / 5 = 2, 2\n",
      "12 / 6 = 2, 0\n",
      "12 / 7 = 1, 5\n",
      "12 / 8 = 1, 4\n",
      "12 / 9 = 1, 3\n",
      "12 / 10 = 1, 2\n",
      "12 / 11 = 1, 1\n"
     ]
    }
   ],
   "source": [
    "num = int(input(\"Enter a number :\"))\n",
    "check = 2\n",
    "while check <= num-1 :\n",
    "    print(\"{} / {} = {}, {}\".format(num,check,num//check,num%check))\n",
    "    check = check + 1\n",
    "#Here we can see that if we move more than half of number than its quoitent will remain 1 and their will always be some remainder so we will use this concept to test prime number"
   ]
  },
  {
   "cell_type": "code",
   "execution_count": 16,
   "metadata": {},
   "outputs": [
    {
     "name": "stdout",
     "output_type": "stream",
     "text": [
      "Enter the number to be checked is prime or not :12\n",
      "Number is not prime\n"
     ]
    }
   ],
   "source": [
    "num = int(input(\"Enter the number to be checked is prime or not :\"))\n",
    "if num <= 1 :\n",
    "    print(\"Not Prime\")\n",
    "    print(\"Error!Enter valid input\")\n",
    "    exit(0)\n",
    "elif num <= 3 :\n",
    "    print(\"Number is prime\")\n",
    "    exit(0)\n",
    "c = 2\n",
    "while c <= num//2 + 1 :\n",
    "    k = num % c\n",
    "    if k == 0:\n",
    "        print(\"Number is not prime\")\n",
    "        break;\n",
    "    elif k == num // 2 +1 :\n",
    "        print(\"Number is prime \")\n",
    "    \n",
    "#In this case loop will run num//2 -1 times unlike first case where loop will run num-1 times\n",
    "#Hence complexitity of code is decreased\n",
    "    \n",
    "\n",
    " \n"
   ]
  },
  {
   "cell_type": "code",
   "execution_count": null,
   "metadata": {},
   "outputs": [],
   "source": [
    "#Bank Management \n"
   ]
  },
  {
   "cell_type": "code",
   "execution_count": null,
   "metadata": {
    "collapsed": true
   },
   "outputs": [],
   "source": [
    "s = int(input(\"Enter a number to check it is armstrong or not :\"))\n",
    "c =0\n",
    "r = s\n",
    "while s > 0 :\n",
    "    s = s // 10\n",
    "    c = c + 1\n",
    "s = r\n",
    "for var in range(0,c):\n",
    "        while r > 0:\n",
    "            rem = s % 10\n",
    "            res = res + rem**c \n",
    "            s = s// 10\n",
    "if s == res:\n",
    "    print(\"Number is armstrong\")\n",
    "else : \n",
    "    print(\"Number is not armstrong\")\n",
    "\n",
    "    #use ** as power operator"
   ]
  },
  {
   "cell_type": "code",
   "execution_count": null,
   "metadata": {
    "collapsed": true
   },
   "outputs": [],
   "source": [
    "dir"
   ]
  }
 ],
 "metadata": {
  "kernelspec": {
   "display_name": "Python 3",
   "language": "python",
   "name": "python3"
  },
  "language_info": {
   "codemirror_mode": {
    "name": "ipython",
    "version": 3
   },
   "file_extension": ".py",
   "mimetype": "text/x-python",
   "name": "python",
   "nbconvert_exporter": "python",
   "pygments_lexer": "ipython3",
   "version": "3.6.3"
  }
 },
 "nbformat": 4,
 "nbformat_minor": 2
}
