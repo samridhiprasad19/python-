{
 "cells": [
  {
   "cell_type": "code",
   "execution_count": 1,
   "metadata": {
    "collapsed": true
   },
   "outputs": [],
   "source": [
    "class Robot(object):\n",
    "    '''Hi I am Robot.Make do your Work'''\n",
    "    common = \"Hi I am Common to all Robots.\"\n",
    "    def __init__(self,name,work):\n",
    "        \"\"\"Hi I am constructor\"\"\"\n",
    "        self.name = name\n",
    "        self.work = work\n",
    "    def show(self):\n",
    "        \"\"\"Hi  I am show function to show details of robot\"\"\"\n",
    "        print(\"Name =\",self.name)\n",
    "        print(\"Work =\",self.work)\n",
    "    def change(self,name,work):\n",
    "        \"\"\"HI I am change function\"\"\"\n",
    "        self.name = name \n",
    "        self.work = work\n",
    "    def common_msg(self):\n",
    "        \"\"\"This is group Chat\"\"\"\n",
    "        print(\"common msg =\",Robot.common)\n",
    "        \n",
    "        "
   ]
  },
  {
   "cell_type": "code",
   "execution_count": 4,
   "metadata": {},
   "outputs": [
    {
     "name": "stdout",
     "output_type": "stream",
     "text": [
      "Name = samridhi\n",
      "Work = student\n"
     ]
    }
   ],
   "source": [
    "obj1 = Robot('samridhi','student')\n",
    "obj1.show()"
   ]
  },
  {
   "cell_type": "code",
   "execution_count": 5,
   "metadata": {
    "collapsed": true
   },
   "outputs": [],
   "source": [
    "class Car(object):\n",
    "    \"\"\"Hi this is Car Class\"\"\"\n",
    "    def __init__(self,model,brand,color):\n",
    "        self.model = model\n",
    "        self.brand = brand\n",
    "        self.color = color\n",
    "    def show(self):\n",
    "        print(\"Brand =\",self.brand)\n",
    "        print(\"Model =\",self.model)\n",
    "        print(\"Color = \",self.color)\n",
    "    def change(self,brand,color,model):\n",
    "        self.brand = brand\n",
    "        self.color = color\n",
    "        self.model = model"
   ]
  },
  {
   "cell_type": "code",
   "execution_count": 7,
   "metadata": {},
   "outputs": [],
   "source": [
    "nano = Car(2018,\"tata\",'red')"
   ]
  },
  {
   "cell_type": "code",
   "execution_count": 8,
   "metadata": {},
   "outputs": [
    {
     "name": "stdout",
     "output_type": "stream",
     "text": [
      "Brand = tata\n",
      "Model = 2018\n",
      "Color =  red\n"
     ]
    }
   ],
   "source": [
    "nano.show()"
   ]
  },
  {
   "cell_type": "code",
   "execution_count": 15,
   "metadata": {
    "collapsed": true
   },
   "outputs": [],
   "source": [
    "nano.change('tata','yellow',2017)"
   ]
  },
  {
   "cell_type": "code",
   "execution_count": 16,
   "metadata": {},
   "outputs": [
    {
     "name": "stdout",
     "output_type": "stream",
     "text": [
      "Brand = tata\n",
      "Model = 2017\n",
      "Color =  yellow\n"
     ]
    }
   ],
   "source": [
    "nano.show()"
   ]
  },
  {
   "cell_type": "code",
   "execution_count": null,
   "metadata": {
    "collapsed": true
   },
   "outputs": [],
   "source": []
  }
 ],
 "metadata": {
  "kernelspec": {
   "display_name": "Python 3",
   "language": "python",
   "name": "python3"
  },
  "language_info": {
   "codemirror_mode": {
    "name": "ipython",
    "version": 3
   },
   "file_extension": ".py",
   "mimetype": "text/x-python",
   "name": "python",
   "nbconvert_exporter": "python",
   "pygments_lexer": "ipython3",
   "version": "3.6.3"
  }
 },
 "nbformat": 4,
 "nbformat_minor": 2
}
