{
 "cells": [
  {
   "cell_type": "code",
   "execution_count": 17,
   "metadata": {},
   "outputs": [
    {
     "name": "stdout",
     "output_type": "stream",
     "text": [
      "Enter the number of rows :5\n",
      "*\n",
      "\n",
      "**\n",
      "\n",
      "***\n",
      "\n",
      "****\n",
      "\n",
      "*****\n",
      "\n"
     ]
    }
   ],
   "source": [
    "n = int(input(\"Enter the number of rows :\"))\n",
    "for var in range(0,n):\n",
    "    for t in range(0,var+1):\n",
    "        print(\"*\",end = '')\n",
    "    print('\\n')\n"
   ]
  },
  {
   "cell_type": "code",
   "execution_count": 36,
   "metadata": {},
   "outputs": [
    {
     "name": "stdout",
     "output_type": "stream",
     "text": [
      "Enter the number of rows:5\n",
      "*****\n",
      "\n",
      "****\n",
      "\n",
      "***\n",
      "\n",
      "**\n",
      "\n",
      "*\n",
      "\n"
     ]
    }
   ],
   "source": [
    "i = int(input(\"Enter the number of rows:\"))\n",
    "l = i\n",
    "for var in range(0,i):\n",
    "\n",
    "    for k in range(l,0,-1):\n",
    "        print(\"*\",end='')\n",
    "    print(\"\\n\")\n",
    "    l = l - 1"
   ]
  },
  {
   "cell_type": "code",
   "execution_count": 52,
   "metadata": {},
   "outputs": [
    {
     "name": "stdout",
     "output_type": "stream",
     "text": [
      "Enter the number of rows:3\n",
      "*\t\n",
      "\n",
      "*\t*\t*\t\n",
      "\n",
      "*\t*\t*\t*\t*\t\n",
      "\n"
     ]
    }
   ],
   "source": [
    "i = int(input(\"Enter the number of rows:\"))\n",
    "for var in range(0,i):\n",
    "    k = 2*var + 1\n",
    "    for r in range(0,k):\n",
    "        print(\"*\",end='\\t')\n",
    "    print('\\n')\n",
    "        "
   ]
  },
  {
   "cell_type": "code",
   "execution_count": 42,
   "metadata": {},
   "outputs": [
    {
     "name": "stdout",
     "output_type": "stream",
     "text": [
      "Enter the number of rows:3\n",
      "1\t\n",
      "\n",
      "1\t2\t\n",
      "\n",
      "1\t2\t3\t\n",
      "\n"
     ]
    }
   ],
   "source": [
    "#Pattern\n",
    "i = int(input(\"Enter the number of rows:\"))\n",
    "for var in range(0,i):\n",
    "    num = 1\n",
    "    for k in range(0,var+1) :\n",
    "        print(num , end = '\\t')\n",
    "        num = num+1\n",
    "    print('\\n')"
   ]
  },
  {
   "cell_type": "code",
   "execution_count": 44,
   "metadata": {},
   "outputs": [
    {
     "name": "stdout",
     "output_type": "stream",
     "text": [
      "Enter the number of rows:3\n",
      "1\t\n",
      "\n",
      "2\t2\t\n",
      "\n",
      "3\t3\t3\t\n",
      "\n"
     ]
    }
   ],
   "source": [
    "i = int(input(\"Enter the number of rows:\"))\n",
    "num = 1\n",
    "for var in range(0,i):\n",
    "\n",
    "    for k in range(0,var+1) :\n",
    "        print(num , end = '\\t')\n",
    "        \n",
    "    print('\\n')\n",
    "    num = num+1"
   ]
  },
  {
   "cell_type": "code",
   "execution_count": 45,
   "metadata": {},
   "outputs": [
    {
     "name": "stdout",
     "output_type": "stream",
     "text": [
      "Enter the number of rows:3\n",
      "1\t\n",
      "\n",
      "2\t3\t\n",
      "\n",
      "4\t5\t6\t\n",
      "\n"
     ]
    }
   ],
   "source": [
    "i = int(input(\"Enter the number of rows:\"))\n",
    "num = 1\n",
    "for var in range(0,i):\n",
    "\n",
    "    for k in range(0,var+1) :\n",
    "        print(num , end = '\\t')\n",
    "        num = num+1\n",
    "    print('\\n')\n",
    "    "
   ]
  },
  {
   "cell_type": "code",
   "execution_count": 48,
   "metadata": {},
   "outputs": [
    {
     "name": "stdout",
     "output_type": "stream",
     "text": [
      "Enter the number of rows:5\n",
      "A\t\n",
      "\n",
      "B\tB\t\n",
      "\n",
      "C\tC\tC\t\n",
      "\n",
      "D\tD\tD\tD\t\n",
      "\n",
      "E\tE\tE\tE\tE\t\n",
      "\n"
     ]
    }
   ],
   "source": [
    "i = int(input(\"Enter the number of rows:\"))\n",
    "num = 65\n",
    "#Initialising value of A to 65 in ascii terms\n",
    "for var in range(0,i):\n",
    "\n",
    "    for k in range(0,var+1) :\n",
    "        ch = chr(num)#Converting value of num into alphabets\n",
    "        print(ch , end = '\\t')\n",
    "        \n",
    "    print('\\n')\n",
    "    num = num+1"
   ]
  },
  {
   "cell_type": "code",
   "execution_count": 51,
   "metadata": {},
   "outputs": [
    {
     "name": "stdout",
     "output_type": "stream",
     "text": [
      "Enter the number of rows :5\n",
      "A\t\n",
      "\n",
      "B\tC\t\n",
      "\n",
      "D\tE\tF\t\n",
      "\n",
      "G\tH\tI\tJ\t\n",
      "\n",
      "K\tL\tM\tN\tO\t\n",
      "\n"
     ]
    }
   ],
   "source": [
    "i = int(input(\"Enter the number of rows :\"))\n",
    "num = 65\n",
    "ch = chr(num)\n",
    "for var in range(0,i):\n",
    "    for k in range(0,var+1):\n",
    "        print(ch,end ='\\t')\n",
    "        num = num + 1\n",
    "        ch = chr(num)\n",
    "    print(\"\\n\")\n",
    "        "
   ]
  },
  {
   "cell_type": "code",
   "execution_count": 56,
   "metadata": {},
   "outputs": [
    {
     "name": "stdout",
     "output_type": "stream",
     "text": [
      "Enter the number of rows:3\n",
      " \t*\t\n",
      "\n",
      " \t*\t\n",
      "\n",
      " \t*\t\n",
      "\n",
      " \t*\t\n",
      "\n",
      " \t*\t\n",
      "\n",
      " \t*\t*\t\n",
      "\n",
      " \t*\t*\t\n",
      "\n",
      " \t*\t*\t\n",
      "\n",
      " \t*\t*\t\n",
      "\n",
      " \t*\t*\t*\t\n",
      "\n",
      " \t*\t*\t*\t\n",
      "\n",
      " \t*\t*\t*\t\n",
      "\n"
     ]
    }
   ],
   "source": [
    "i = int(input(\"Enter the number of rows:\"))\n",
    "k = 2*i - 1\n",
    "for var in range(0,i):\n",
    "    for r in range(0,k):\n",
    "        print(\" \",end = '\\t')\n",
    "        for j in range(0,var+1):\n",
    "            print(\"*\",end = '\\t')\n",
    "        print('\\n')\n",
    "    k = k-1\n",
    "    \n",
    "    \n",
    "    \n"
   ]
  },
  {
   "cell_type": "code",
   "execution_count": 1,
   "metadata": {},
   "outputs": [
    {
     "name": "stdout",
     "output_type": "stream",
     "text": [
      "11 33\n",
      "---------------.|.---------------\n",
      "------------.|..|..|.------------\n",
      "---------.|..|..|..|..|.---------\n",
      "------.|..|..|..|..|..|..|.------\n",
      "---.|..|..|..|..|..|..|..|..|.---\n",
      "-------------WELCOME-------------\n",
      "---.|..|..|..|..|..|..|..|..|.---\n",
      "------.|..|..|..|..|..|..|.------\n",
      "---------.|..|..|..|..|.---------\n",
      "------------.|..|..|.------------\n",
      "---------------.|.---------------\n"
     ]
    }
   ],
   "source": [
    "n,m = map(int,input().split(\" \"))\n",
    "c = '.|.'\n",
    "for i in range(1,n//2+1):\n",
    "    l =2 * i -1\n",
    "    print((c*l).center(m,'-'))\n",
    "print('WELCOME'.center(m,'-'))\n",
    "for i in range(n//2,0,-1):\n",
    "    l =2 * i -1\n",
    "    print((c*l).center(m,'-'))"
   ]
  },
  {
   "cell_type": "code",
   "execution_count": null,
   "metadata": {
    "collapsed": true
   },
   "outputs": [],
   "source": []
  }
 ],
 "metadata": {
  "kernelspec": {
   "display_name": "Python 3",
   "language": "python",
   "name": "python3"
  },
  "language_info": {
   "codemirror_mode": {
    "name": "ipython",
    "version": 3
   },
   "file_extension": ".py",
   "mimetype": "text/x-python",
   "name": "python",
   "nbconvert_exporter": "python",
   "pygments_lexer": "ipython3",
   "version": "3.6.3"
  }
 },
 "nbformat": 4,
 "nbformat_minor": 2
}
