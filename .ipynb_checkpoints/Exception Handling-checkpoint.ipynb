{
 "cells": [
  {
   "cell_type": "code",
   "execution_count": null,
   "metadata": {},
   "outputs": [
    {
     "name": "stdout",
     "output_type": "stream",
     "text": [
      "Enter x:1\n",
      "Enter y :2\n",
      "0.5\n",
      "Enter a file EERR\n",
      "Error!! [Errno 2] No such file or directory: 'EERR'\n",
      "Enter x:12\n",
      "Enter y :123\n",
      "0.0975609756097561\n",
      "Enter a file \n",
      "Error!! [Errno 2] No such file or directory: ''\n",
      "Enter x:ABC\n",
      "Error!! invalid literal for int() with base 10: 'ABC'\n",
      "Enter x:1\n",
      "Enter y :2\n",
      "0.5\n",
      "Enter a file abc\n",
      "Error!! [Errno 2] No such file or directory: 'abc'\n",
      "Enter x:hello\n",
      "Error!! invalid literal for int() with base 10: 'hello'\n",
      "Enter x:1\n",
      "Enter y :2\n",
      "0.5\n",
      "Enter a file hello\n",
      "Error!! [Errno 2] No such file or directory: 'hello'\n"
     ]
    }
   ],
   "source": [
    "def inn():\n",
    "    try:\n",
    "        k = int(input(\"Enter x:\"))\n",
    "        y = int(input(\"Enter y :\"))\n",
    "        r = k/y\n",
    "        print(r)\n",
    "        name = input(\"Enter a file \")\n",
    "        f = open(name)\n",
    "        data = f.read()\n",
    "        print(data)\n",
    "    except ValueError as arg:\n",
    "        print(\"You Idiot! Interger only\")\n",
    "        return inn()\n",
    "    except ZeroDivisionError as err:\n",
    "        print(\"Can't Divide by Zero\")\n",
    "        inn()\n",
    "    except KeyboardInterrupt as e:\n",
    "        print(\"Dont be oversmart fill all inputs\")\n",
    "        inn()\n",
    "    except SystemExit as e:\n",
    "        print(\"Dont be oversmart fill all inputs\")\n",
    "    except Exception as err:\n",
    "            print(\"Error!!\",err)\n",
    "            inn()\n",
    "x = inn()\n",
    "print(x)"
   ]
  },
  {
   "cell_type": "code",
   "execution_count": 4,
   "metadata": {},
   "outputs": [
    {
     "name": "stdout",
     "output_type": "stream",
     "text": [
      "Positive:21\n",
      "error!! ENTER POSITIVE NO 21\n"
     ]
    }
   ],
   "source": [
    "try :\n",
    "    x = int(input(\"Positive:\"))\n",
    "    assert x <0,\"ENTER POSITIVE NO {}\".format(x)\n",
    "    \n",
    "except AssertionError as e:\n",
    "        print(\"error!!\",e)"
   ]
  },
  {
   "cell_type": "code",
   "execution_count": null,
   "metadata": {
    "collapsed": true
   },
   "outputs": [],
   "source": []
  },
  {
   "cell_type": "code",
   "execution_count": 3,
   "metadata": {},
   "outputs": [
    {
     "name": "stdout",
     "output_type": "stream",
     "text": [
      "Positive:-123\n",
      "error!! ENTER POSITIVE NO -123\n"
     ]
    }
   ],
   "source": [
    "try :\n",
    "    x = int(input(\"Positive:\"))\n",
    "    if x <0:\n",
    "        raise ValueError(\"ENTER POSITIVE NO {}\".format(x))\n",
    "except ValueError as e:\n",
    "        print(\"error!!\",e)"
   ]
  },
  {
   "cell_type": "code",
   "execution_count": null,
   "metadata": {
    "collapsed": true
   },
   "outputs": [],
   "source": []
  }
 ],
 "metadata": {
  "kernelspec": {
   "display_name": "Python 3",
   "language": "python",
   "name": "python3"
  },
  "language_info": {
   "codemirror_mode": {
    "name": "ipython",
    "version": 3
   },
   "file_extension": ".py",
   "mimetype": "text/x-python",
   "name": "python",
   "nbconvert_exporter": "python",
   "pygments_lexer": "ipython3",
   "version": "3.6.3"
  }
 },
 "nbformat": 4,
 "nbformat_minor": 2
}
