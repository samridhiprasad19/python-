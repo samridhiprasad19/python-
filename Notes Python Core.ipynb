{
 "cells": [
  {
   "cell_type": "markdown",
   "metadata": {},
   "source": [
    "# Printing Hello"
   ]
  },
  {
   "cell_type": "code",
   "execution_count": 2,
   "metadata": {},
   "outputs": [
    {
     "name": "stdout",
     "output_type": "stream",
     "text": [
      "Hello world\n"
     ]
    }
   ],
   "source": [
    "print(\"Hello world\") #print use to display output"
   ]
  },
  {
   "cell_type": "code",
   "execution_count": 1,
   "metadata": {},
   "outputs": [
    {
     "name": "stdout",
     "output_type": "stream",
     "text": [
      "Enter your name : samridhi\n",
      "Hello samridhi Welcome to Jupyter\n"
     ]
    }
   ],
   "source": [
    "name = input(\"Enter your name : \") #take input from user\n",
    "print(\"Hello\",name,\"Welcome to Jupyter\")\n"
   ]
  },
  {
   "cell_type": "markdown",
   "metadata": {},
   "source": [
    "# Data types in Python\n"
   ]
  },
  {
   "cell_type": "markdown",
   "metadata": {},
   "source": [
    "1. Numbers\n",
    "2. Strings\n",
    "3. List\n",
    "4. Tuple \n",
    "5. Dictionary\n",
    "6. Sets"
   ]
  },
  {
   "cell_type": "markdown",
   "metadata": {
    "collapsed": true
   },
   "source": [
    "#### everything is data\n",
    "data ->store ->raw data(wastage of time in processing data) ->convert processed data ie categorised by certain rule \n",
    "major type of datas \n",
    "1 integer eg 123\n",
    "2 string eg r1234\n",
    "Python has 6 rules for storing or categorising data as mentioned above-\n",
    "\n",
    "1. Number \n",
    "supports-\n",
    "#Integer\n",
    "#Float\n",
    "#Complex\n",
    "eg x = 512345 //integer decl dynamic allocation no range\n",
    "  ###### 512345 will be store in x so will x will be its container\n",
    "   y= 3.14 //float decl real number represented on number line \n",
    "   z= R+Ij  4+5j\n",
    "   \n",
    "   \n",
    "   \n"
   ]
  },
  {
   "cell_type": "code",
   "execution_count": 2,
   "metadata": {},
   "outputs": [
    {
     "name": "stdout",
     "output_type": "stream",
     "text": [
      "<class 'int'> 5\n",
      "<class 'float'> 3.14\n",
      "<class 'complex'> (3.14+5j)\n",
      "<class 'str'> Hello World\n"
     ]
    }
   ],
   "source": [
    "x=5\n",
    "y=3.14\n",
    "z= 3.14+5j\n",
    "print(type(x),x)\n",
    "print(type(y),y)\n",
    "print(type(z),z)\n",
    "x='Hello World'\n",
    "print(type(x),x)"
   ]
  },
  {
   "cell_type": "code",
   "execution_count": 3,
   "metadata": {},
   "outputs": [
    {
     "name": "stdout",
     "output_type": "stream",
     "text": [
      "Enter a number: 12\n",
      "<class 'str'>\n",
      "12\n"
     ]
    }
   ],
   "source": [
    "x = input(\"Enter a number: \")\n",
    "print(type(x)) #python takes input by default as string\n",
    "print(x)"
   ]
  },
  {
   "cell_type": "code",
   "execution_count": 4,
   "metadata": {},
   "outputs": [
    {
     "name": "stdout",
     "output_type": "stream",
     "text": [
      "Enter a integer number: 12\n",
      "Enter a float number: 12.4\n",
      "Enter a complex number: 2+7j\n",
      "<class 'complex'> (2+7j)\n",
      "<class 'float'> 12.4\n",
      "<class 'complex'> (3.14+5j)\n"
     ]
    }
   ],
   "source": [
    "#Type Conversion\n",
    "x = int(input(\"Enter a integer number: \"))\n",
    "y = float(input(\"Enter a float number: \"))\n",
    "x = complex(input(\"Enter a complex number: \"))\n",
    "\n",
    "print(type(x),x)\n",
    "print(type(y),y)\n",
    "print(type(z),z)"
   ]
  },
  {
   "cell_type": "code",
   "execution_count": 5,
   "metadata": {
    "collapsed": true
   },
   "outputs": [],
   "source": [
    "##by default use float in data type in python"
   ]
  },
  {
   "cell_type": "code",
   "execution_count": 9,
   "metadata": {},
   "outputs": [
    {
     "name": "stdout",
     "output_type": "stream",
     "text": [
      "Enter first number12.333\n",
      "Enter second number21.22222\n",
      "addition of 12.333 and 21.22222 is 33.55522 \n",
      "addition of 12.33 and 21.22 is 33.555220 \n"
     ]
    }
   ],
   "source": [
    "## addition of two numbers\n",
    "x = float(input(\"Enter first number\"))\n",
    "y = float(input(\"Enter second number\"))\n",
    "z = x+y\n",
    "print(\"addition of {} and {} is {} \".format(x,y,z)) #{} buffer output\n",
    "print(\"addition of %.2f and %.2f is %f \" %(x,y,z))"
   ]
  },
  {
   "cell_type": "code",
   "execution_count": 1,
   "metadata": {},
   "outputs": [
    {
     "name": "stdout",
     "output_type": "stream",
     "text": [
      "Enter first number12.44\n",
      "Enter second number32\n",
      "Enter third number12.98\n",
      "addition of 12.44,32.0 and 12.98 is 57.42\n"
     ]
    }
   ],
   "source": [
    "### addition of three num\n",
    "x = float(input(\"Enter first number\"))\n",
    "y = float(input(\"Enter second number\"))\n",
    "z = float(input(\"Enter third number\"))\n",
    "l = x+y+z\n",
    "print(\"addition of {},{} and {} is {}\".format(x,y,z,l))"
   ]
  },
  {
   "cell_type": "code",
   "execution_count": 4,
   "metadata": {},
   "outputs": [
    {
     "name": "stdout",
     "output_type": "stream",
     "text": [
      "Enter the first number12\n",
      "Enter the second number10\n",
      "The subtraction of 12and 10 is 2\n"
     ]
    }
   ],
   "source": [
    "### subtraction of two numbers\n",
    "x = int(input(\"Enter the first number\"))\n",
    "y = int(input(\"Enter the second number\"))\n",
    "z = x-y\n",
    "print(\"The subtraction of {}and {} is {}\".format(x,y,z))"
   ]
  },
  {
   "cell_type": "code",
   "execution_count": 5,
   "metadata": {},
   "outputs": [
    {
     "name": "stdout",
     "output_type": "stream",
     "text": [
      "Enter first number23444\n",
      "Enter second number78999\n",
      "The multiplication of two numbers are 1852052556\n"
     ]
    }
   ],
   "source": [
    "#Multiplication of two Numbers \n",
    "x = int(input(\"Enter first number\")) \n",
    "y = int(input(\"Enter second number\"))\n",
    "z = x*y\n",
    "print(\"The multiplication of two numbers are {}\" .format(z))"
   ]
  },
  {
   "cell_type": "markdown",
   "metadata": {
    "collapsed": true
   },
   "source": [
    "in python we work in classes eg in all the above eq we are using  class types"
   ]
  },
  {
   "cell_type": "markdown",
   "metadata": {},
   "source": [
    "## 2.String (Most important datatype)\n",
    "Group of characters\n",
    "defined in python as \n",
    "' ' or \" \" or \"\"\"  \"\"\" or''' '''\n",
    "' ' or \" \" single line \n",
    "\"\"\" \"\"\" paragraph\n"
   ]
  },
  {
   "cell_type": "code",
   "execution_count": 1,
   "metadata": {},
   "outputs": [
    {
     "name": "stdout",
     "output_type": "stream",
     "text": [
      "single quoted string\n",
      "double quoted string\n",
      " HI\n",
      "This is triple quoted string\n",
      "     Define in triple quote\n"
     ]
    }
   ],
   "source": [
    "x = 'single quoted string'\n",
    "y = \"double quoted string\"\n",
    "z = \"\"\" HI\n",
    "This is triple quoted string\n",
    "     Define in triple quote\"\"\"\n",
    "print(x)\n",
    "print(y)\n",
    "print(z)"
   ]
  },
  {
   "cell_type": "markdown",
   "metadata": {},
   "source": [
    "x = \"He said , \"python is awesome\"\"#syntax error \n",
    "we cant use \" \" in \" \"\n",
    "\n"
   ]
  },
  {
   "cell_type": "code",
   "execution_count": 2,
   "metadata": {},
   "outputs": [
    {
     "name": "stdout",
     "output_type": "stream",
     "text": [
      "He said,\" Python is awesome\" \n"
     ]
    }
   ],
   "source": [
    "print(\"He said,\\\" Python is awesome\\\" \")"
   ]
  },
  {
   "cell_type": "code",
   "execution_count": 3,
   "metadata": {},
   "outputs": [
    {
     "name": "stdout",
     "output_type": "stream",
     "text": [
      "He said, ' python is awesome'\n"
     ]
    }
   ],
   "source": [
    "print(\"He said, ' python is awesome'\")"
   ]
  },
  {
   "cell_type": "code",
   "execution_count": 9,
   "metadata": {},
   "outputs": [
    {
     "name": "stdout",
     "output_type": "stream",
     "text": [
      "Length of python 6\n",
      "Python\n",
      "h\n",
      "t\n"
     ]
    }
   ],
   "source": [
    "#len function to calculate length of string(Sequence)\n",
    "s = \"Python\"\n",
    "k = len(s)\n",
    "print(\"Length of python\",k)\n",
    "print(s)\n",
    "print(s[3])#indexing that is printing a single character\n",
    "print(s[2])#python by default prints in new line as print character \\n"
   ]
  },
  {
   "cell_type": "code",
   "execution_count": 6,
   "metadata": {},
   "outputs": [
    {
     "data": {
      "text/plain": [
       "6"
      ]
     },
     "execution_count": 6,
     "metadata": {},
     "output_type": "execute_result"
    }
   ],
   "source": [
    "s = \"python\"\n",
    "len(s)"
   ]
  },
  {
   "cell_type": "markdown",
   "metadata": {},
   "source": [
    "#FEATURES OF STRING\n",
    "###INDEXING[ ]\n",
    "\"P Y T H O N \"\n",
    " 0 1 2 3 4 5 \n",
    "### slicing [starting:ending:step] bydefault step value is 1\n",
    "way of fetching sub string from string\n",
    "\n",
    "\n"
   ]
  },
  {
   "cell_type": "code",
   "execution_count": 11,
   "metadata": {},
   "outputs": [
    {
     "name": "stdout",
     "output_type": "stream",
     "text": [
      "HELLO WORLD\n",
      "WORLD\n"
     ]
    }
   ],
   "source": [
    "s = \"HELLO WORLD\"\n",
    "print(s)\n",
    "print(s[6:11])#ending = s+1"
   ]
  },
  {
   "cell_type": "code",
   "execution_count": 13,
   "metadata": {},
   "outputs": [
    {
     "name": "stdout",
     "output_type": "stream",
     "text": [
      "30\n",
      "Interpreted\n"
     ]
    }
   ],
   "source": [
    "s = \"Python is Interpreted language\"\n",
    "print(len(s))\n",
    "print(s[10:21])"
   ]
  },
  {
   "cell_type": "code",
   "execution_count": 14,
   "metadata": {},
   "outputs": [
    {
     "name": "stdout",
     "output_type": "stream",
     "text": [
      "Python is Interpreted\n"
     ]
    }
   ],
   "source": [
    "s = \"Python is Interpreted language\"\n",
    "print(s[ :21])#bydefault starting value is zero"
   ]
  },
  {
   "cell_type": "code",
   "execution_count": 15,
   "metadata": {},
   "outputs": [
    {
     "name": "stdout",
     "output_type": "stream",
     "text": [
      " language\n"
     ]
    }
   ],
   "source": [
    "s = \"Python is Interpreted language\"\n",
    "print(s[21:])#by default last value in ending"
   ]
  },
  {
   "cell_type": "code",
   "execution_count": 17,
   "metadata": {},
   "outputs": [
    {
     "name": "stdout",
     "output_type": "stream",
     "text": [
      "02468\n",
      "9876543210\n"
     ]
    }
   ],
   "source": [
    "s = \"0123456789\"\n",
    "k = s[::2]\n",
    "print(k)\n",
    "l = s[::-1] #negative indexing\n",
    "# 0 1 2 3 4 5 6 7 8 9\n",
    "#-10-9-8-7-6-5-4-3-2-1\n",
    "print(l)"
   ]
  },
  {
   "cell_type": "code",
   "execution_count": 19,
   "metadata": {},
   "outputs": [
    {
     "name": "stdout",
     "output_type": "stream",
     "text": [
      "uoy era woh olleH\n",
      "olleH\n"
     ]
    }
   ],
   "source": [
    "s = \"Hello how are you\"\n",
    "print(s[::-1])\n",
    "print(s[-13:-18:-1]) #to print reverse word in a particular string"
   ]
  },
  {
   "cell_type": "code",
   "execution_count": 20,
   "metadata": {},
   "outputs": [
    {
     "data": {
      "text/plain": [
       "['__add__',\n",
       " '__class__',\n",
       " '__contains__',\n",
       " '__delattr__',\n",
       " '__dir__',\n",
       " '__doc__',\n",
       " '__eq__',\n",
       " '__format__',\n",
       " '__ge__',\n",
       " '__getattribute__',\n",
       " '__getitem__',\n",
       " '__getnewargs__',\n",
       " '__gt__',\n",
       " '__hash__',\n",
       " '__init__',\n",
       " '__init_subclass__',\n",
       " '__iter__',\n",
       " '__le__',\n",
       " '__len__',\n",
       " '__lt__',\n",
       " '__mod__',\n",
       " '__mul__',\n",
       " '__ne__',\n",
       " '__new__',\n",
       " '__reduce__',\n",
       " '__reduce_ex__',\n",
       " '__repr__',\n",
       " '__rmod__',\n",
       " '__rmul__',\n",
       " '__setattr__',\n",
       " '__sizeof__',\n",
       " '__str__',\n",
       " '__subclasshook__',\n",
       " 'capitalize',\n",
       " 'casefold',\n",
       " 'center',\n",
       " 'count',\n",
       " 'encode',\n",
       " 'endswith',\n",
       " 'expandtabs',\n",
       " 'find',\n",
       " 'format',\n",
       " 'format_map',\n",
       " 'index',\n",
       " 'isalnum',\n",
       " 'isalpha',\n",
       " 'isdecimal',\n",
       " 'isdigit',\n",
       " 'isidentifier',\n",
       " 'islower',\n",
       " 'isnumeric',\n",
       " 'isprintable',\n",
       " 'isspace',\n",
       " 'istitle',\n",
       " 'isupper',\n",
       " 'join',\n",
       " 'ljust',\n",
       " 'lower',\n",
       " 'lstrip',\n",
       " 'maketrans',\n",
       " 'partition',\n",
       " 'replace',\n",
       " 'rfind',\n",
       " 'rindex',\n",
       " 'rjust',\n",
       " 'rpartition',\n",
       " 'rsplit',\n",
       " 'rstrip',\n",
       " 'split',\n",
       " 'splitlines',\n",
       " 'startswith',\n",
       " 'strip',\n",
       " 'swapcase',\n",
       " 'title',\n",
       " 'translate',\n",
       " 'upper',\n",
       " 'zfill']"
      ]
     },
     "execution_count": 20,
     "metadata": {},
     "output_type": "execute_result"
    }
   ],
   "source": [
    "x = \"Python\"\n",
    "dir(x)#define attributes and function of class above "
   ]
  },
  {
   "cell_type": "code",
   "execution_count": 21,
   "metadata": {},
   "outputs": [
    {
     "name": "stdout",
     "output_type": "stream",
     "text": [
      "HELLO WORLD\n",
      "hello world\n",
      "hELLO wORLD\n"
     ]
    }
   ],
   "source": [
    "# . in python is access specifier \n",
    "# we use . parameter to acess the functions of class \n",
    "x = \"Hello World\"\n",
    "k = x.upper()#they doesnt change string only convert them we dont store them in container k then data will be lost \n",
    "l = x.lower()\n",
    "h = x.swapcase()\n",
    "print(k)\n",
    "print(l)\n",
    "print(h)"
   ]
  },
  {
   "cell_type": "code",
   "execution_count": 22,
   "metadata": {},
   "outputs": [
    {
     "name": "stdout",
     "output_type": "stream",
     "text": [
      "S.title() -> str\n",
      "\n",
      "Return a titlecased version of S, i.e. words start with title case\n",
      "characters, all remaining cased characters have lower case.\n"
     ]
    }
   ],
   "source": [
    "s = \"Python\"\n",
    "doc = s.title.__doc__ #gives documentation of a function in class defined\n",
    "print(doc)"
   ]
  },
  {
   "cell_type": "code",
   "execution_count": 25,
   "metadata": {},
   "outputs": [
    {
     "name": "stdout",
     "output_type": "stream",
     "text": [
      "4\n",
      "All cats are cats but all cats are not cats\n",
      "All Dogs are cats but all cats are not Dogs\n"
     ]
    }
   ],
   "source": [
    "s = \"All Dogs are cats but all cats are not Dogs\"\n",
    "k = s.find('Dogs')#Search from left to right\n",
    "print(k)\n",
    "k = s.replace('Dog','cat')#doesn't change orginal statements\n",
    "print(k)\n",
    "print(s)"
   ]
  },
  {
   "cell_type": "markdown",
   "metadata": {},
   "source": [
    "Python has built-in string validation methods for basic data. It can check if a string is composed of alphabetical characters, alphanumeric characters, digits, etc.\n",
    "\n",
    "str.isalnum() \n",
    "This method checks if all the characters of a string are alphanumeric (a-z, A-Z and 0-9).\n",
    "\n",
    ">>> print 'ab123'.isalnum()\n",
    "True\n",
    ">>> print 'ab123#'.isalnum()\n",
    "False\n",
    "str.isalpha() \n",
    "This method checks if all the characters of a string are alphabetical (a-z and A-Z).\n",
    "\n",
    ">>> print 'abcD'.isalpha()\n",
    "True\n",
    ">>> print 'abcd1'.isalpha()\n",
    "False\n",
    "str.isdigit() \n",
    "This method checks if all the characters of a string are digits (0-9).\n",
    "\n",
    ">>> print '1234'.isdigit()\n",
    "True\n",
    ">>> print '123edsd'.isdigit()\n",
    "False\n",
    "str.islower() \n",
    "This method checks if all the characters of a string are lowercase characters (a-z).\n",
    "\n",
    ">>> print 'abcd123#'.islower()\n",
    "True\n",
    ">>> print 'Abcd123#'.islower()\n",
    "False\n",
    "str.isupper() \n",
    "This method checks if all the characters of a string are uppercase characters (A-Z).\n",
    "\n",
    ">>> print 'ABCD123#'.isupper()\n",
    "True\n",
    ">>> print 'Abcd123#'.isupper()\n",
    "False"
   ]
  },
  {
   "cell_type": "markdown",
   "metadata": {},
   "source": [
    "# List \n",
    "collection of items(mutable data type)\n",
    "data types\n",
    "1. Homogenous (Array)\n",
    "2. Hetrogenous (Structure)\n",
    "list supports slicing and indexing"
   ]
  },
  {
   "cell_type": "code",
   "execution_count": 30,
   "metadata": {},
   "outputs": [
    {
     "name": "stdout",
     "output_type": "stream",
     "text": [
      "[1, 2, 3, 4, 5, 6]\n",
      "[1, 2.12, (9+2j), 'hello world']\n",
      "1 2 3 4 5 6\n",
      "4 5 6\n"
     ]
    }
   ],
   "source": [
    "mylist = [1,2,3,4,5,6]#homogenous\n",
    "mylist1 = [1,2.12,9+2j,'hello world']#hetrogenous\n",
    "print(mylist)\n",
    "print(mylist1)\n",
    "print(*mylist)\n",
    "k = mylist[3:7]\n",
    "print(*k)"
   ]
  },
  {
   "cell_type": "code",
   "execution_count": null,
   "metadata": {
    "collapsed": true
   },
   "outputs": [],
   "source": [
    "#Introduction in List\n",
    "list1 = [1,2,3,4] #homogenous structure of list\n",
    "list2 "
   ]
  },
  {
   "cell_type": "code",
   "execution_count": 5,
   "metadata": {},
   "outputs": [
    {
     "name": "stdout",
     "output_type": "stream",
     "text": [
      "4 7 10 13 16 19\n",
      "20 19 18 17 16 15 14 13 12 11 10 9 8 7 6 5 4 3 2 1\n",
      "1 3 5 7 9 11 13 15 17 19\n",
      "1 2 3 4 5 6 7 8 9 10\n",
      "16 14 12 10 8\n"
     ]
    }
   ],
   "source": [
    "l = [1,2,3,4,5,6,7,8,9,10,11,12,13,14,15,16,17,18,19,20]\n",
    "print(*l[3::3])\n",
    "print(*l[::-1])\n",
    "print(*l[::2])\n",
    "print(*l[-20:-10])\n",
    "print(*l[-5:-15:-2])\n"
   ]
  },
  {
   "cell_type": "code",
   "execution_count": 33,
   "metadata": {},
   "outputs": [
    {
     "name": "stdout",
     "output_type": "stream",
     "text": [
      "['__add__', '__class__', '__contains__', '__delattr__', '__delitem__', '__dir__', '__doc__', '__eq__', '__format__', '__ge__', '__getattribute__', '__getitem__', '__gt__', '__hash__', '__iadd__', '__imul__', '__init__', '__init_subclass__', '__iter__', '__le__', '__len__', '__lt__', '__mul__', '__ne__', '__new__', '__reduce__', '__reduce_ex__', '__repr__', '__reversed__', '__rmul__', '__setattr__', '__setitem__', '__sizeof__', '__str__', '__subclasshook__', 'append', 'clear', 'copy', 'count', 'extend', 'index', 'insert', 'pop', 'remove', 'reverse', 'sort']\n"
     ]
    }
   ],
   "source": [
    "mylist = [1,23,4,123,'hi',45,10,12,66,77,'hello']\n",
    "print(dir(mylist))"
   ]
  },
  {
   "cell_type": "markdown",
   "metadata": {},
   "source": [
    "##Functions of List\n",
    "       ###Add items in list-\n",
    "1. Append\n",
    "2. Insert\n",
    "3. Extend\n",
    "       ###Remove items from list-\n",
    "1. Pop\n",
    "2. Remove\n",
    "3. Sort\n",
    "        ###Some Common Functions-\n",
    "1. sort\n",
    "2. index\n",
    "3. count\n",
    "4. copy\n",
    "5. reverse\n",
    "6. clear"
   ]
  },
  {
   "cell_type": "code",
   "execution_count": 35,
   "metadata": {},
   "outputs": [
    {
     "name": "stdout",
     "output_type": "stream",
     "text": [
      "1 2 3 67 hello 45 10 bye\n",
      "1 2 3 67 hello 45 10 bye 56 24 23\n"
     ]
    }
   ],
   "source": [
    "#append it will add a item at the end of the list use - mylist.append(item)\n",
    "mylist = [1,2,3,67,'hello',45,10]\n",
    "mylist.append('bye')\n",
    "print(*mylist)\n",
    "mylist.append(56)\n",
    "mylist.append(24)\n",
    "mylist.append(23)\n",
    "print(*mylist)"
   ]
  },
  {
   "cell_type": "code",
   "execution_count": 40,
   "metadata": {},
   "outputs": [
    {
     "name": "stdout",
     "output_type": "stream",
     "text": [
      "1 2 3 67 100 23 23 23 45 10 bye 56 24 23 p y t h o n p y t h o n\n",
      "1 2 3 67 100 23 23 23 23 45 10 bye 56 24 23 p y t h o n p y t h o n\n",
      "1 2 3 67 100 23 23 23 23 45 10 bye 56 24 23 p y t h o n p y t h o n p y t h o n\n",
      "[1, 2, 3, 67, 100, 23, 23, 23, 23, 45, 10, 'bye', 56, 24, 23, 'p', 'y', 't', 'h', 'o', 'n', 'p', 'y', 't', 'h', 'o', 'n', 'p', 'y', 't', 'h', 'o', 'n', 'hello', 'world']\n"
     ]
    }
   ],
   "source": [
    "print(*mylist)\n",
    "#1 2 3 67 hello 45 10 bye 56 24 23\n",
    "#insert -> it will take index and item and add that item to given item\n",
    "#use = mylist.insert(index,item)\n",
    "#it will not replace item it will just add item to list\n",
    "#passing of both arguments is compulsary\n",
    "mylist.insert(4,100)\n",
    "mylist[5]= 23 #it will repalce item of 4 index with 23\n",
    "print(*mylist)\n",
    "#extend is use to add multiple items\n",
    "mylist.extend('python')#it will take one one item and add it to list bydefault it will add to last\n",
    "print(*mylist)\n",
    "mylist.extend(['hello','world'])\n",
    "print(mylist)"
   ]
  },
  {
   "cell_type": "code",
   "execution_count": 45,
   "metadata": {},
   "outputs": [
    {
     "name": "stdout",
     "output_type": "stream",
     "text": [
      "[1, 2, 67, 100, 23, 23, 23, 45, 10, 'bye', 56, 24, 23]\n",
      "[1, 2, 100, 23, 23, 23, 45, 10, 'bye', 56, 24, 23]\n",
      "[1, 2, 100, 23, 23, 45, 10, 56, 24, 23]\n"
     ]
    }
   ],
   "source": [
    "m = [1 ,2 , 67 ,100, 23, 23 ,23, 45, 10, 'bye', 56, 24, 23, 'p', 'y', 't' ,'h', 'o', 'n' ]\n",
    "m.pop()\n",
    "m.pop();mylist.pop()#when we want to write two statements in same line use ;\n",
    "m.pop()#remove items from last\n",
    "m.pop()\n",
    "m.pop()\n",
    "m.pop()\n",
    "print(m)\n",
    "m.pop(2)#remove item at index 2\n",
    "print(m)\n",
    "m.remove('bye')#it removes item from list\n",
    "m.remove(23)\n",
    "print(m)"
   ]
  },
  {
   "cell_type": "code",
   "execution_count": 56,
   "metadata": {},
   "outputs": [
    {
     "name": "stdout",
     "output_type": "stream",
     "text": [
      "4\n",
      "[1, 2, 67, 100, 23, 23, 23, 45, 10, 'bye', 56, 24, 23]\n",
      "[]\n",
      "[23, 24, 56, 'bye', 10, 45, 23, 23, 23, 100, 67, 2, 1]\n",
      "[1, 2, 10, 23, 23, 23, 23, 24, 45, 56, 67, 100]\n",
      "[100, 67, 56, 45, 24, 23, 23, 23, 23, 10, 2, 1]\n"
     ]
    }
   ],
   "source": [
    "mylist = [1, 2, 67, 100, 23, 23, 23, 45, 10, 'bye', 56, 24, 23]\n",
    "k = mylist.count(23)#prints repeative item\n",
    "print(k)\n",
    "mylist1 = mylist.copy()#it copies the list\n",
    "print(mylist1)\n",
    "mylist1.clear()#it clears items of list does not delete items\n",
    "print(mylist1)\n",
    "mylist.reverse()\n",
    "print(mylist)\n",
    "mylist.remove('bye')\n",
    "mylist.sort()#works on homogenous list\n",
    "print(mylist)\n",
    "mylist.sort(reverse=True)\n",
    "print(mylist)\n"
   ]
  },
  {
   "cell_type": "code",
   "execution_count": 57,
   "metadata": {},
   "outputs": [
    {
     "name": "stdout",
     "output_type": "stream",
     "text": [
      "None\n"
     ]
    }
   ],
   "source": [
    "mylist = [1, 2, 67, 100, 23, 23, 23, 45, 10, 'bye', 56, 24, 23]\n",
    "print(mylist.reverse())#it does not return any value it implements the operation on list"
   ]
  },
  {
   "cell_type": "code",
   "execution_count": 7,
   "metadata": {},
   "outputs": [
    {
     "name": "stdout",
     "output_type": "stream",
     "text": [
      "['hi', 'i', 'am', 'a', 'list']\n",
      "hi\n",
      "list\n",
      "list\n",
      "['hi', 'i', 'am', 'a', 'list']\n",
      "['a', 'list']\n",
      "['hi', 'i', 'am', 'a']\n",
      "['hi', 'am', 'list']\n",
      "['am']\n",
      "['list', 'a', 'am', 'i', 'hi']\n",
      "['hi', 'am']\n"
     ]
    }
   ],
   "source": [
    "#list data type (mutable data type)(can be changed mutable data type)\n",
    "#collections of items - known as array if all items are similar\n",
    "#else known as structure if all data types are different\n",
    "l = ['hi', 'i','am','a','list']#declartion of list\n",
    "print(l)#printing the whole list\n",
    "#list has index number that start from zero\n",
    "print(l[0])#acccessing the index 0 element that is hi\n",
    "print(l[-1])#accessing the last element of list\n",
    "print(l[4])#element of index 4\n",
    "#Another way of travelling in list is slicing\n",
    "#slicing define starting and ending of list with start:end parameter\n",
    "#index the index\n",
    "print(l[:])#will print the whole list starting from zero and ending from end\n",
    "print(l[3:5])#will print elements from index 3 to 4\n",
    "#it will not print 5 because slicing works n-1 index from n\n",
    "print(l[:4])#will print till index 3 starting from zer0\n",
    "#slicing also supports jump as l[start:end:jump] which prints jump var from starting\n",
    "print(l[::2])#will print second element of each list\n",
    "print(l[2:5:3])\n",
    "print(l[::-1])#will print list in reverse\n",
    "print(l[-5:-1:2])#will print every second element from index -5 to end"
   ]
  },
  {
   "cell_type": "code",
   "execution_count": 7,
   "metadata": {},
   "outputs": [
    {
     "name": "stdout",
     "output_type": "stream",
     "text": [
      "item  4 is removed from list\n",
      "None\n",
      "1\n",
      "None\n",
      "[3, 4, 8, 12, 67]\n",
      "None\n"
     ]
    }
   ],
   "source": [
    "\n",
    "l = [1,3,4,12,4,67,8]\n",
    "print(\"item  {} is removed from list\".format(l.pop(2)))#here the value is returned \n",
    "print(l.remove(1))#doesnot return any value\n",
    "print(l.count(4))\n",
    "print(l.sort())\n",
    "mylist = l.copy() #return values\n",
    "print(mylist)\n",
    "n = mylist.clear()\n",
    "print(n)\n",
    "#those function which do not return any value return none by default"
   ]
  },
  {
   "cell_type": "markdown",
   "metadata": {},
   "source": [
    "# Tuples \n",
    "TUPLE are immutable data type that cant be changed after its defination\n",
    "##Only count() and index() functions can be used \n",
    "##Tuple does not support item assignment"
   ]
  },
  {
   "cell_type": "code",
   "execution_count": 24,
   "metadata": {},
   "outputs": [
    {
     "name": "stdout",
     "output_type": "stream",
     "text": [
      "(1, 2, 4, 67, 78, 2, 2, 4, [1, 2, 35, 78])\n",
      "['__add__', '__class__', '__contains__', '__delattr__', '__dir__', '__doc__', '__eq__', '__format__', '__ge__', '__getattribute__', '__getitem__', '__getnewargs__', '__gt__', '__hash__', '__init__', '__init_subclass__', '__iter__', '__le__', '__len__', '__lt__', '__mul__', '__ne__', '__new__', '__reduce__', '__reduce_ex__', '__repr__', '__rmul__', '__setattr__', '__sizeof__', '__str__', '__subclasshook__', 'count', 'index']\n",
      "([1, 2, 35, 78],)\n",
      "([1, 2, 35, 78], 4, 2, 2, 78, 67, 4, 2, 1)\n",
      "2 is repeated 3 many time \n",
      "index of three is 3\n",
      "1 35\n"
     ]
    }
   ],
   "source": [
    "mytuple = (1,2,4,67,78,2,2,4,[1,2,35,78])\n",
    "print(mytuple)\n",
    "print(dir(mytuple))\n",
    "print(mytuple[-1:])#prints only one attributes\n",
    "print(mytuple[-1::-1])#reverse  list\n",
    "print(\"2 is repeated {} many time \" .format(mytuple.count(2)) )\n",
    "print(\"index of three is\", mytuple.index(67) )\n",
    "print(*mytuple[8][0:3:2]) # element which is a list in tuple all the properties of list are applicable here\n"
   ]
  },
  {
   "cell_type": "code",
   "execution_count": 18,
   "metadata": {},
   "outputs": [
    {
     "name": "stdout",
     "output_type": "stream",
     "text": [
      "[7, 8, 9]\n",
      "9\n"
     ]
    }
   ],
   "source": [
    "#example of 2d list \n",
    "hello = [\n",
    "    [1,2,3],\n",
    "    [4,5,6],\n",
    "    [7,8,9]\n",
    "]\n",
    "print(hello[2])\n",
    "print(hello[2][2])\n"
   ]
  },
  {
   "cell_type": "code",
   "execution_count": 19,
   "metadata": {},
   "outputs": [
    {
     "name": "stdout",
     "output_type": "stream",
     "text": [
      "hello\n"
     ]
    }
   ],
   "source": [
    "mylist  = [\n",
    "    [1,2,45,34,234],\n",
    "    [124,34,5,67,45],\n",
    "    [23,4,7,78,[23,45,'hello',4]]\n",
    "]\n",
    "x = mylist[2][4][2]\n",
    "print(x)"
   ]
  },
  {
   "cell_type": "markdown",
   "metadata": {},
   "source": [
    "# Dictionary\n",
    "defined as {}\n",
    "##does not work on indexing\n",
    "##works on key\n",
    "dict_name = {'key' : 'value1' ,\n",
    "             'key2 :  'value2',\n",
    "             .\n",
    "             . \n",
    "             .\n",
    "             }\n"
   ]
  },
  {
   "cell_type": "code",
   "execution_count": 29,
   "metadata": {},
   "outputs": [
    {
     "name": "stdout",
     "output_type": "stream",
     "text": [
      "{'name': 'python', 'scope': 'world wide', 'build_year': 1994, 'Frame Works': ['django', 'flask', 'web2py', 'pyramid'], 'father': 'Guido Van Rossum', 'Feilds': ['scripting', 'web development', 'AI', 'ML', 'Software Development', 'Data Science']}\n",
      "name scope build_year Frame Works father Feilds\n",
      "['__class__', '__contains__', '__delattr__', '__delitem__', '__dir__', '__doc__', '__eq__', '__format__', '__ge__', '__getattribute__', '__getitem__', '__gt__', '__hash__', '__init__', '__init_subclass__', '__iter__', '__le__', '__len__', '__lt__', '__ne__', '__new__', '__reduce__', '__reduce_ex__', '__repr__', '__setattr__', '__setitem__', '__sizeof__', '__str__', '__subclasshook__', 'clear', 'copy', 'fromkeys', 'get', 'items', 'keys', 'pop', 'popitem', 'setdefault', 'update', 'values']\n",
      "python\n",
      "dict_keys(['name', 'scope', 'build_year', 'Frame Works', 'father', 'Feilds'])\n",
      "dict_values(['python', 'world wide', 1994, ['django', 'flask', 'web2py', 'pyramid'], 'Guido Van Rossum', ['scripting', 'web development', 'AI', 'ML', 'Software Development', 'Data Science']])\n"
     ]
    }
   ],
   "source": [
    "#dictionary is collection of key and value\n",
    "mydict = {\n",
    "    'name' : 'python',\n",
    "    'scope' : \"world wide\",\n",
    "    'build_year' : 1994,\n",
    "    'Frame Works' : ['django','flask','web2py','pyramid'],\n",
    "    'father' : 'Guido Van Rossum',\n",
    "    'Feilds' :['scripting','web development','AI','ML','Software Development','Data Science']\n",
    "}\n",
    "print(mydict)#Dictionary is faster than list\n",
    "#Because list works on indexing\n",
    "print(*mydict)#print keys of dictionary\n",
    "print(dir(mydict))\n",
    "print(mydict.get('name'))#prints value of keys\n",
    "print(mydict.keys())\n",
    "print(mydict.values())\n"
   ]
  },
  {
   "cell_type": "code",
   "execution_count": 37,
   "metadata": {},
   "outputs": [
    {
     "name": "stdout",
     "output_type": "stream",
     "text": [
      "Here are your keys to select dict_keys(['name', 'scope', 'build_year', 'frame-works', 'father', 'feilds'])\n",
      "Enter a key:name\n",
      "Python Programming Language\n",
      "Enter a keyversion\n",
      "Enter a value for your key3.6\n",
      "3.6 successfully added\n",
      "{'name': 'Python Programming Language', 'scope': 'world wide', 'build_year': 1994, 'frame-works': ['django', 'flask', 'web2py', 'pyramid'], 'father': 'Guido Van Rossum', 'feilds': ['scripting', 'web development', 'AI', 'ML', 'Software Development', 'Data Science'], 'version': '3.6'}\n"
     ]
    }
   ],
   "source": [
    "mydict = {\n",
    "    'name' : 'python',\n",
    "    'scope' : \"world wide\",\n",
    "    'build_year' : 1994,\n",
    "    'frame-works' : ['django','flask','web2py','pyramid'],\n",
    "    'father' : 'Guido Van Rossum',\n",
    "    'feilds' :['scripting','web development','AI','ML','Software Development','Data Science']\n",
    "}\n",
    "print(\"Here are your keys to select\",mydict.keys())\n",
    "mydict['name'] = 'Python Programming Language'\n",
    "key = input(\"Enter a key:\").strip().lower()\n",
    "value = mydict[key]\n",
    "print(value)\n",
    "key = input(\"Enter a new key\")\n",
    "value = input(\"Enter a value for your key\")\n",
    "mydict[key] = value\n",
    "print(mydict[key],'successfully added')\n",
    "print(mydict)"
   ]
  },
  {
   "cell_type": "code",
   "execution_count": 35,
   "metadata": {},
   "outputs": [
    {
     "data": {
      "text/plain": [
       "'hello world'"
      ]
     },
     "execution_count": 35,
     "metadata": {},
     "output_type": "execute_result"
    }
   ],
   "source": [
    "s = \"  hello world      \"\n",
    "s.strip()#remove white space\n",
    "#s.lstrip()#remove left white space\n",
    "#s.rstrip()#remove right white space"
   ]
  },
  {
   "cell_type": "markdown",
   "metadata": {},
   "source": [
    "# SETS\n",
    "\n",
    "S = {\n",
    "\n",
    "     }"
   ]
  },
  {
   "cell_type": "code",
   "execution_count": 39,
   "metadata": {},
   "outputs": [
    {
     "name": "stdout",
     "output_type": "stream",
     "text": [
      "{1, 2, 3, 4, 5}\n",
      "[4, 5, 6, 7, 8, 8, 8, 8, 8]\n",
      "type of s1 =  <class 'set'>\n",
      "['__and__', '__class__', '__contains__', '__delattr__', '__dir__', '__doc__', '__eq__', '__format__', '__ge__', '__getattribute__', '__gt__', '__hash__', '__iand__', '__init__', '__init_subclass__', '__ior__', '__isub__', '__iter__', '__ixor__', '__le__', '__len__', '__lt__', '__ne__', '__new__', '__or__', '__rand__', '__reduce__', '__reduce_ex__', '__repr__', '__ror__', '__rsub__', '__rxor__', '__setattr__', '__sizeof__', '__str__', '__sub__', '__subclasshook__', '__xor__', 'add', 'clear', 'copy', 'difference', 'difference_update', 'discard', 'intersection', 'intersection_update', 'isdisjoint', 'issubset', 'issuperset', 'pop', 'remove', 'symmetric_difference', 'symmetric_difference_update', 'union', 'update']\n"
     ]
    }
   ],
   "source": [
    "s1 = {1,2,3,4,5,2,2,2,1,1,1,1}#sets cant be defined empty\n",
    "s2 = [4,5,6,7,8,8,8,8,8]#in sets only one item is printed once\n",
    "print(s1)\n",
    "print(s2)\n",
    "print(\"type of s1 = \",type(s1))\n",
    "print(dir(s1))"
   ]
  },
  {
   "cell_type": "code",
   "execution_count": 41,
   "metadata": {},
   "outputs": [
    {
     "name": "stdout",
     "output_type": "stream",
     "text": [
      "{1, 2, 3, 4, 5}\n",
      "[4, 5, 6, 7, 8, 8, 8, 8, 8]\n",
      "Intersection of s1 and s2 {4, 5}\n",
      "Intersection of s1 and s2 {1, 2, 3, 4, 5, 6, 7, 8}\n",
      "Difference of {}and {} is {} ({1, 2, 3, 4, 5}, [4, 5, 6, 7, 8, 8, 8, 8, 8], {1, 2, 3})\n"
     ]
    }
   ],
   "source": [
    "s1 = {1,2,3,4,5,2,2,2,1,1,1,1}#sets cant be defined empty\n",
    "s2 = [4,5,6,7,8,8,8,8,8]\n",
    "print(s1)\n",
    "print(s2)\n",
    "#value = s1.intersection(s2)\n",
    "print(\"Intersection of s1 and s2\",s1.intersection(s2))\n",
    "#value = s1.union(s2)\n",
    "print(\"Intersection of s1 and s2\",s1.union(s2))\n",
    "value = s1.difference(s2)\n",
    "print(\"Difference of {}and {} is {}\",(s1,s2,value))"
   ]
  },
  {
   "cell_type": "markdown",
   "metadata": {},
   "source": [
    "# TYPE CONVERSION\n"
   ]
  },
  {
   "cell_type": "code",
   "execution_count": 43,
   "metadata": {},
   "outputs": [
    {
     "name": "stdout",
     "output_type": "stream",
     "text": [
      "42798\n",
      "1365\n"
     ]
    }
   ],
   "source": [
    "#int('ABCD') error will generate\n",
    "print(int(\"123456\",8))\n",
    "print(int('010101010101',2))#integer only take strings when we want to convert\n"
   ]
  },
  {
   "cell_type": "code",
   "execution_count": 44,
   "metadata": {},
   "outputs": [
    {
     "data": {
      "text/plain": [
       "'0o2322'"
      ]
     },
     "execution_count": 44,
     "metadata": {},
     "output_type": "execute_result"
    }
   ],
   "source": [
    "oct(1234) #OCTAL CONVERSION"
   ]
  },
  {
   "cell_type": "code",
   "execution_count": 45,
   "metadata": {},
   "outputs": [
    {
     "data": {
      "text/plain": [
       "'0x4d2'"
      ]
     },
     "execution_count": 45,
     "metadata": {},
     "output_type": "execute_result"
    }
   ],
   "source": [
    "hex(1234)#hexadecimal conversion"
   ]
  },
  {
   "cell_type": "code",
   "execution_count": 46,
   "metadata": {},
   "outputs": [
    {
     "data": {
      "text/plain": [
       "123.6"
      ]
     },
     "execution_count": 46,
     "metadata": {},
     "output_type": "execute_result"
    }
   ],
   "source": [
    "float(' 123.6 ') #space is allowed"
   ]
  },
  {
   "cell_type": "code",
   "execution_count": 47,
   "metadata": {},
   "outputs": [
    {
     "data": {
      "text/plain": [
       "(56+0j)"
      ]
     },
     "execution_count": 47,
     "metadata": {},
     "output_type": "execute_result"
    }
   ],
   "source": [
    "complex('56')"
   ]
  },
  {
   "cell_type": "code",
   "execution_count": 48,
   "metadata": {},
   "outputs": [
    {
     "data": {
      "text/plain": [
       "(56+9j)"
      ]
     },
     "execution_count": 48,
     "metadata": {},
     "output_type": "execute_result"
    }
   ],
   "source": [
    "complex('56+9j')"
   ]
  },
  {
   "cell_type": "code",
   "execution_count": 49,
   "metadata": {},
   "outputs": [
    {
     "data": {
      "text/plain": [
       "\"{'a': 1, 'b': 2}\""
      ]
     },
     "execution_count": 49,
     "metadata": {},
     "output_type": "execute_result"
    }
   ],
   "source": [
    "d = {'a':1,'b':2}\n",
    "str(d)"
   ]
  },
  {
   "cell_type": "code",
   "execution_count": 52,
   "metadata": {},
   "outputs": [
    {
     "name": "stdout",
     "output_type": "stream",
     "text": [
      "['p', 'y', 't', 'h', 'o', 'n']\n"
     ]
    }
   ],
   "source": [
    "#list()\n",
    "#Sequence can be passed tupple dictionary sets\n",
    "mylist = list('python')\n",
    "print(mylist)"
   ]
  },
  {
   "cell_type": "code",
   "execution_count": 54,
   "metadata": {},
   "outputs": [
    {
     "name": "stdout",
     "output_type": "stream",
     "text": [
      "[1, 2, 3, 4]\n"
     ]
    }
   ],
   "source": [
    "t = (1,2,3,4)\n",
    "l = list(t)\n",
    "print(l)"
   ]
  },
  {
   "cell_type": "code",
   "execution_count": 59,
   "metadata": {},
   "outputs": [
    {
     "name": "stdout",
     "output_type": "stream",
     "text": [
      "['a', 'b']\n",
      "[('a', 1), ('b', 2)]\n",
      "[1, 2]\n"
     ]
    }
   ],
   "source": [
    "d = {'a':1 ,'b':2}\n",
    "l = list(d)\n",
    "print(l)\n",
    "l1 = list(d.items())\n",
    "print(l1)\n",
    "print(list(d.values()))"
   ]
  },
  {
   "cell_type": "code",
   "execution_count": 60,
   "metadata": {},
   "outputs": [
    {
     "name": "stdout",
     "output_type": "stream",
     "text": [
      "{'a', 'b'}\n"
     ]
    }
   ],
   "source": [
    "print(set(d))"
   ]
  },
  {
   "cell_type": "code",
   "execution_count": 62,
   "metadata": {},
   "outputs": [
    {
     "name": "stdout",
     "output_type": "stream",
     "text": [
      "{'name': 'python', 'hello': 'world'}\n"
     ]
    }
   ],
   "source": [
    "t =  (#tuple\n",
    "('name','python'),\n",
    "('hello','world'))\n",
    "print(dict(t))\n"
   ]
  },
  {
   "cell_type": "code",
   "execution_count": 1,
   "metadata": {},
   "outputs": [
    {
     "name": "stdout",
     "output_type": "stream",
     "text": [
      "Enter key112\n",
      "Enter value of key13\n",
      "Enter key213\n",
      "Enter value of key 24\n",
      "{'12': '3', '13': '4'}\n"
     ]
    }
   ],
   "source": [
    "outer_list = []\n",
    "inner_list = []\n",
    "key1 = input(\"Enter key1\")\n",
    "value = input(\"Enter value of key1\")\n",
    "key2 = input(\"Enter key2\")\n",
    "value2 = input(\"Enter value of key 2\")\n",
    "inner_list.append(key1)\n",
    "inner_list.append(value)\n",
    "outer_list.append(inner_list)\n",
    "d = dict(outer_list)\n",
    "inner_list.clear()\n",
    "inner_list.append(key2)\n",
    "inner_list.append(value2)\n",
    "outer_list.append(inner_list)\n",
    "d.update(outer_list)\n",
    "print(d)\n",
    "\n",
    "\n"
   ]
  },
  {
   "cell_type": "code",
   "execution_count": 5,
   "metadata": {},
   "outputs": [
    {
     "data": {
      "text/plain": [
       "2748"
      ]
     },
     "execution_count": 5,
     "metadata": {},
     "output_type": "execute_result"
    }
   ],
   "source": [
    "int(\"abc\",16)"
   ]
  },
  {
   "cell_type": "code",
   "execution_count": 12,
   "metadata": {},
   "outputs": [
    {
     "data": {
      "text/plain": [
       "'[1, 2, 3, 4]'"
      ]
     },
     "execution_count": 12,
     "metadata": {},
     "output_type": "execute_result"
    }
   ],
   "source": [
    "list1 = [1,2,3,4]\n",
    "str(list1)\n",
    "type(list1)"
   ]
  },
  {
   "cell_type": "markdown",
   "metadata": {
    "collapsed": true
   },
   "source": [
    "# Operators\n",
    "### Unary operator (single operand)\n",
    "### Binary operator (two operand)\n",
    "##Arthimetic Operator(Binary operator)\n",
    "1.Addition+  \n",
    "2.Subtraction - \n",
    "3.Multiplication * \n",
    "4.Division /\n",
    "### Modulus % ### Floor Division // ### Exponent"
   ]
  },
  {
   "cell_type": "markdown",
   "metadata": {},
   "source": [
    "# Types of Operators\n",
    "1. Arthimetic Operators\n",
    "2. Comparision Operators\n",
    "3. Logical Operator\n",
    "4. Assignment Operator\n",
    "5. Binary Operator\n",
    "6. Identity Operator\n",
    "7. Membership Operator"
   ]
  },
  {
   "cell_type": "code",
   "execution_count": 3,
   "metadata": {},
   "outputs": [
    {
     "name": "stdout",
     "output_type": "stream",
     "text": [
      "Enter value of x12\n",
      "Enter value of y13\n",
      "Addition of 12 and 13 is 25\n"
     ]
    }
   ],
   "source": [
    "#addition operator \n",
    "x = int(input(\"Enter value of x\"))\n",
    "y = int(input(\"Enter value of y\"))\n",
    "z = x + y \n",
    "print(\"Addition of {} and {} is {}\".format(x,y,z))#same work on float and complex"
   ]
  },
  {
   "cell_type": "code",
   "execution_count": 4,
   "metadata": {},
   "outputs": [
    {
     "name": "stdout",
     "output_type": "stream",
     "text": [
      "HELLOWORLD\n"
     ]
    }
   ],
   "source": [
    "x = \"HELLO \"\n",
    "y = \"WORLD\"\n",
    "z = x + y\n",
    "print(z) #WE dont give space then hello world will concentate as helloworld"
   ]
  },
  {
   "cell_type": "code",
   "execution_count": 7,
   "metadata": {},
   "outputs": [
    {
     "name": "stdout",
     "output_type": "stream",
     "text": [
      "[1, 2, 3, 4, 5, 6]\n"
     ]
    }
   ],
   "source": [
    "l = [1,2,3]\n",
    "l2 =[4,5,6]\n",
    "print(l+l2)#list will append that is second list will merge into first and single list will be formed. \n",
    "#lIST,TUPPLE AND STRING IS SEQUENCIAL DATA TYPE\n",
    "#DICTIONARY AND SETS ARE NON SEQUENCIAL\n",
    "#INTEGER ARE NEITHER SEQUENCIAL NOR NON SEQUENCIAL DATA TYPE"
   ]
  },
  {
   "cell_type": "code",
   "execution_count": 8,
   "metadata": {},
   "outputs": [
    {
     "name": "stdout",
     "output_type": "stream",
     "text": [
      "(1, 2, 3, 4, 5, 6)\n"
     ]
    }
   ],
   "source": [
    "t = (1,2,3)\n",
    "t2 = (4,5,6)\n",
    "print(t+t2)#here a new tupple is being formed "
   ]
  },
  {
   "cell_type": "code",
   "execution_count": 9,
   "metadata": {
    "collapsed": true
   },
   "outputs": [],
   "source": [
    "#Neither of arthimetic operators works on dictionary operators."
   ]
  },
  {
   "cell_type": "code",
   "execution_count": 11,
   "metadata": {},
   "outputs": [
    {
     "data": {
      "text/plain": [
       "'s1 = {1,2,3}\\ns2 = {4,5,6}\\nprint(s1+s2)'"
      ]
     },
     "execution_count": 11,
     "metadata": {},
     "output_type": "execute_result"
    }
   ],
   "source": [
    "\"\"\"s1 = {1,2,3}\n",
    "s2 = {4,5,6}\n",
    "print(s1+s2)\"\"\"\n",
    "#arthimetic operator does not operate on non sequencial data types "
   ]
  },
  {
   "cell_type": "code",
   "execution_count": 14,
   "metadata": {},
   "outputs": [
    {
     "name": "stdout",
     "output_type": "stream",
     "text": [
      "-40\n"
     ]
    },
    {
     "data": {
      "text/plain": [
       "\"s = 'hello'\\nl = 'world'\\nprint(s-l)\""
      ]
     },
     "execution_count": 14,
     "metadata": {},
     "output_type": "execute_result"
    }
   ],
   "source": [
    "#Subtraction Operator\n",
    "\n",
    "x =10\n",
    "y = 50\n",
    "print(x-y)\n",
    "\"\"\"s = 'hello'\n",
    "l = 'world'\n",
    "print(s-l)\"\"\" \n",
    "#it does not work on list and tupple"
   ]
  },
  {
   "cell_type": "code",
   "execution_count": 18,
   "metadata": {},
   "outputs": [
    {
     "name": "stdout",
     "output_type": "stream",
     "text": [
      "1060\n",
      "HelloHelloHelloHelloHello\n",
      "[1, 2, 3, 1, 2, 3, 1, 2, 3]\n"
     ]
    }
   ],
   "source": [
    "#Multiplication Operator \n",
    "x = 53\n",
    "y = 20\n",
    "print(x*y)\n",
    "\"\"\"s = \"Hello world\"\n",
    "l = \"hi\"\n",
    "print(s*l)\"\"\"#Does not work here only work when we multiply string by number\n",
    "s = \"Hello\"\n",
    "l = 5\n",
    "print(s*l)##it will repeated number of times\n",
    "#It will not work on list and tupple\n",
    "l1 = [1,2,3]\n",
    "print(l1*3)"
   ]
  },
  {
   "cell_type": "code",
   "execution_count": 19,
   "metadata": {},
   "outputs": [
    {
     "name": "stdout",
     "output_type": "stream",
     "text": [
      "3.3333333333333335\n"
     ]
    }
   ],
   "source": [
    "#Divison Operator(works on numbers)\n",
    "x = 10\n",
    "y = 3\n",
    "print(10/3)#it will give absolute divison "
   ]
  },
  {
   "cell_type": "code",
   "execution_count": 20,
   "metadata": {},
   "outputs": [
    {
     "name": "stdout",
     "output_type": "stream",
     "text": [
      "1\n",
      "3\n"
     ]
    }
   ],
   "source": [
    "#Modulus Operator\n",
    "x = 10\n",
    "y = 3\n",
    "print(x%y)#remainder\n",
    "print(x//y)#quotient"
   ]
  },
  {
   "cell_type": "code",
   "execution_count": 21,
   "metadata": {},
   "outputs": [
    {
     "name": "stdout",
     "output_type": "stream",
     "text": [
      "4.416666666666667\n",
      "5\n",
      "4\n"
     ]
    }
   ],
   "source": [
    "print(53/12)\n",
    "print(53%12)\n",
    "print(53//12)"
   ]
  },
  {
   "cell_type": "code",
   "execution_count": 22,
   "metadata": {},
   "outputs": [
    {
     "name": "stdout",
     "output_type": "stream",
     "text": [
      "125\n"
     ]
    }
   ],
   "source": [
    "#Exponent Operator\n",
    "x = 5#base\n",
    "y = 3#power\n",
    "print(x**y)#left to right "
   ]
  },
  {
   "cell_type": "markdown",
   "metadata": {},
   "source": [
    "# Comparsion Operator \n",
    "1. Less than <\n",
    "2. Less than equal to  <=\n",
    "3. Greater than >\n",
    "4. Greater than equal to >=\n",
    "5. Equals to Equals ==\n",
    "6. Not equals to operator(!=)\n",
    "###python considers False,0and none as false\n"
   ]
  },
  {
   "cell_type": "code",
   "execution_count": 23,
   "metadata": {},
   "outputs": [
    {
     "name": "stdout",
     "output_type": "stream",
     "text": [
      "True\n",
      "False\n",
      "True\n",
      "False\n",
      "False\n",
      "True\n",
      "True\n",
      "True\n",
      "True\n",
      "False\n",
      "False\n",
      "True\n"
     ]
    }
   ],
   "source": [
    "print(6<8)\n",
    "print(8<6)\n",
    "print(6<=6)\n",
    "print(6<=3)\n",
    "print(5>6)\n",
    "print(6>5)\n",
    "print(6>=6)\n",
    "print(6>=5)\n",
    "print(6==6)\n",
    "print(6==7)\n",
    "print(6!=6)\n",
    "print(6!=7)"
   ]
  },
  {
   "cell_type": "markdown",
   "metadata": {},
   "source": [
    "# Logical Operators\n",
    "1. and Operator\n",
    "2. or  Operator\n",
    "3. not Operator\n",
    "###There are no symbols for above operators in python\n",
    "### They work on boolean data types\n",
    "### that is they need either true or false\n"
   ]
  },
  {
   "cell_type": "code",
   "execution_count": 24,
   "metadata": {
    "collapsed": true
   },
   "outputs": [],
   "source": [
    "# x  y or and not\n",
    "# T  T  T  T  F\n",
    "# T  F  T  F  -\n",
    "# F  T  T  F  T\n",
    "# F  F  F  F  -"
   ]
  },
  {
   "cell_type": "code",
   "execution_count": 26,
   "metadata": {},
   "outputs": [
    {
     "name": "stdout",
     "output_type": "stream",
     "text": [
      "0\n",
      "False\n",
      "False\n"
     ]
    }
   ],
   "source": [
    "print(6-4*3+6 and 6<5)\n",
    "print(6-4*3+6 or 6<5)\n",
    "print(not True)"
   ]
  },
  {
   "cell_type": "code",
   "execution_count": 29,
   "metadata": {},
   "outputs": [
    {
     "name": "stdout",
     "output_type": "stream",
     "text": [
      "-12\n",
      "None\n",
      "{1: 2, 3: 4}\n"
     ]
    }
   ],
   "source": [
    "print(6 and -12)#it works on true and false \n",
    "#it will consider every other thing as true and therefore return the value\n",
    "print(1 and None)\n",
    "print([1,2,3] and {1 : 2, 3 : 4})\n"
   ]
  },
  {
   "cell_type": "code",
   "execution_count": 32,
   "metadata": {},
   "outputs": [
    {
     "name": "stdout",
     "output_type": "stream",
     "text": [
      "X\tY\tand\tor\n",
      "True\tTrue\tTrue\tTrue\n",
      "True\tFalse\tFalse\tTrue\n",
      "False\tTrue\tFalse\tTrue\n",
      "False\tFalse\tFalse\tTrue\n"
     ]
    }
   ],
   "source": [
    "x = True\n",
    "y = False\n",
    "print(\"X\\tY\\tand\\tor\")\n",
    "print(\"{}\\t{}\\t{}\\t{}\".format(x,x,x and x,x or y))\n",
    "print(\"{}\\t{}\\t{}\\t{}\".format(x,y,x and y,x or y))\n",
    "print(\"{}\\t{}\\t{}\\t{}\".format(y,x,x and y,x or y))\n",
    "print(\"{}\\t{}\\t{}\\t{}\".format(y,y,x and y,x or y))"
   ]
  },
  {
   "cell_type": "code",
   "execution_count": 35,
   "metadata": {},
   "outputs": [
    {
     "name": "stdout",
     "output_type": "stream",
     "text": [
      "x\t Not\n",
      "True\tFalse\n",
      "False\tTrue\n"
     ]
    }
   ],
   "source": [
    "x = True\n",
    "y = False \n",
    "print(\"x\\t Not\")\n",
    "print(\"{}\\t{}\".format(x, not True))\n",
    "print(\"{}\\t{}\".format(y, not False))\n"
   ]
  },
  {
   "cell_type": "code",
   "execution_count": 36,
   "metadata": {},
   "outputs": [
    {
     "name": "stdout",
     "output_type": "stream",
     "text": [
      "something\n"
     ]
    }
   ],
   "source": [
    "#Assignment Operator\n",
    "x = 'something'\n",
    "print(x)"
   ]
  },
  {
   "cell_type": "code",
   "execution_count": 37,
   "metadata": {},
   "outputs": [
    {
     "name": "stdout",
     "output_type": "stream",
     "text": [
      "14.0\n"
     ]
    }
   ],
   "source": [
    "k = ((6*5/2-5) and (6<4 or 3>6)) or (10/2*3-1)\n",
    "print(k)"
   ]
  },
  {
   "cell_type": "code",
   "execution_count": 38,
   "metadata": {},
   "outputs": [
    {
     "name": "stdout",
     "output_type": "stream",
     "text": [
      "13\n",
      "8 7 hi bye k\n"
     ]
    }
   ],
   "source": [
    "x = 6 + 7\n",
    "print(x)\n",
    "x,y = 8,7\n",
    "l = ['hi','bye','k']\n",
    "a,b,c = l\n",
    "print(x,y,a,b,c)"
   ]
  },
  {
   "cell_type": "code",
   "execution_count": 40,
   "metadata": {},
   "outputs": [
    {
     "name": "stdout",
     "output_type": "stream",
     "text": [
      "6 5\n",
      "10 -2 60\n"
     ]
    }
   ],
   "source": [
    "x = 5\n",
    "y = 6\n",
    "x,y = y,x#swapping\n",
    "print(x,y)\n",
    "a = 4\n",
    "b = 6\n",
    "c = 10\n",
    "a,b,c = a+b,a-b,c*b\n",
    "print(a,b,c)"
   ]
  },
  {
   "cell_type": "code",
   "execution_count": 10,
   "metadata": {},
   "outputs": [
    {
     "name": "stdout",
     "output_type": "stream",
     "text": [
      "['__add__', '__class__', '__contains__', '__delattr__', '__dir__', '__doc__', '__eq__', '__format__', '__ge__', '__getattribute__', '__getitem__', '__getnewargs__', '__gt__', '__hash__', '__init__', '__init_subclass__', '__iter__', '__le__', '__len__', '__lt__', '__mod__', '__mul__', '__ne__', '__new__', '__reduce__', '__reduce_ex__', '__repr__', '__rmod__', '__rmul__', '__setattr__', '__sizeof__', '__str__', '__subclasshook__', 'capitalize', 'casefold', 'center', 'count', 'encode', 'endswith', 'expandtabs', 'find', 'format', 'format_map', 'index', 'isalnum', 'isalpha', 'isdecimal', 'isdigit', 'isidentifier', 'islower', 'isnumeric', 'isprintable', 'isspace', 'istitle', 'isupper', 'join', 'ljust', 'lower', 'lstrip', 'maketrans', 'partition', 'replace', 'rfind', 'rindex', 'rjust', 'rpartition', 'rsplit', 'rstrip', 'split', 'splitlines', 'startswith', 'strip', 'swapcase', 'title', 'translate', 'upper', 'zfill']\n",
      "O-\n"
     ]
    }
   ],
   "source": [
    "x = \"o-\"\n",
    "print(dir(x))\n",
    "print(x.upper())"
   ]
  },
  {
   "cell_type": "code",
   "execution_count": 5,
   "metadata": {},
   "outputs": [
    {
     "name": "stdout",
     "output_type": "stream",
     "text": [
      "True\n",
      "False\n",
      "False\n",
      "True\n"
     ]
    }
   ],
   "source": [
    "#Membership Operators\n",
    "#in #not in\n",
    "s = \"Dog is an animal\"\n",
    "k = \"Dog\" in s\n",
    "print(k)\n",
    "y = \"cat\" in s\n",
    "print(y)\n",
    "x = \"Dog\" not in s\n",
    "print(x)\n",
    "g = \"cat\" not in s\n",
    "print(g)"
   ]
  },
  {
   "cell_type": "code",
   "execution_count": 6,
   "metadata": {},
   "outputs": [
    {
     "name": "stdout",
     "output_type": "stream",
     "text": [
      "Pattern not found\n"
     ]
    }
   ],
   "source": [
    "l = [1,2,3,4]\n",
    "l2 = [3,4]\n",
    "if l2 in l :#it consider [3,4] as single items\n",
    "    print(\"Pattern Found\")\n",
    "else :\n",
    "    print(\"Pattern not found\")#list only checks items "
   ]
  },
  {
   "cell_type": "code",
   "execution_count": 9,
   "metadata": {},
   "outputs": [
    {
     "name": "stdout",
     "output_type": "stream",
     "text": [
      "Enter a number :12\n",
      "Number not found in list\n"
     ]
    }
   ],
   "source": [
    "l = [1,2,3,4,77,66,24537,9081]\n",
    "if int(input(\"Enter a number :\")) in l :\n",
    "    print(\"Number found in list\")\n",
    "else :\n",
    "    print(\"Number not found in list\")"
   ]
  },
  {
   "cell_type": "code",
   "execution_count": 17,
   "metadata": {},
   "outputs": [
    {
     "name": "stdout",
     "output_type": "stream",
     "text": [
      "Player 1:········\n",
      "Player 2:········\n",
      "player1 is winner\n",
      "r\n",
      "s\n"
     ]
    }
   ],
   "source": [
    "#rock paper and scissor\n",
    "from getpass import getpass #takes import from user as password\n",
    "p1 = getpass(\"Player 1:\")\n",
    "p2 = getpass(\"Player 2:\")\n",
    "t1 = [('r','s'),('s','p'),('p','r')]\n",
    "t2 = [('r','s'),('s','r'),('p','s')]\n",
    "if p1 == p2 :\n",
    "    print(\"Match tie\")\n",
    "elif (p1,p2) in t1 :\n",
    "    print(\"player1 is winner\")\n",
    "else :\n",
    "    print(\"Player 2 is winner\")\n",
    "print(p1)\n",
    "print(p2)\n",
    " "
   ]
  },
  {
   "cell_type": "markdown",
   "metadata": {},
   "source": [
    "# Identity Operator "
   ]
  },
  {
   "cell_type": "code",
   "execution_count": 1,
   "metadata": {},
   "outputs": [
    {
     "name": "stdout",
     "output_type": "stream",
     "text": [
      "True\n",
      "False\n",
      "Both are different\n"
     ]
    }
   ],
   "source": [
    "#is  or is not\n",
    "x = 5\n",
    "y = 5\n",
    "print(x is y)\n",
    "print(x is not y)\n",
    "p = 3\n",
    "q = 4\n",
    "if p is q :\n",
    "    print(\"Both are equal\")\n",
    "else :\n",
    "    print(\"Both are different\")\n"
   ]
  },
  {
   "cell_type": "code",
   "execution_count": null,
   "metadata": {
    "collapsed": true
   },
   "outputs": [],
   "source": [
    "#rock paper and scissor\n",
    "t1 = [('r','s'),('s','p'),('p','r')]\n",
    "t2 = [('r','s'),('s','r'),('p','s')]\n",
    "from getpass import getpass #takes import from user as password\n",
    "while True :\n",
    "    p1 = getpass(\"Player 1:\")\n",
    "    p2 = getpass(\"Player 2:\")\n",
    "\n",
    "    if p1 == p2 :\n",
    "         print(\"Match tie\")\n",
    "    elif (p1,p2) in t1 :\n",
    "         print(\"player1 is winner\")\n",
    "    else :\n",
    "         print(\"Player 2 is winner\")\n",
    "ch = input(\"\")"
   ]
  },
  {
   "cell_type": "code",
   "execution_count": 1,
   "metadata": {},
   "outputs": [
    {
     "name": "stdout",
     "output_type": "stream",
     "text": [
      "48\n"
     ]
    }
   ],
   "source": [
    "from random import randrange\n",
    "print(randrange(1,100))\n"
   ]
  },
  {
   "cell_type": "code",
   "execution_count": 1,
   "metadata": {},
   "outputs": [
    {
     "name": "stdout",
     "output_type": "stream",
     "text": [
      "['__doc__', '__loader__', '__name__', '__package__', '__spec__', 'acos', 'acosh', 'asin', 'asinh', 'atan', 'atan2', 'atanh', 'ceil', 'copysign', 'cos', 'cosh', 'degrees', 'e', 'erf', 'erfc', 'exp', 'expm1', 'fabs', 'factorial', 'floor', 'fmod', 'frexp', 'fsum', 'gamma', 'gcd', 'hypot', 'inf', 'isclose', 'isfinite', 'isinf', 'isnan', 'ldexp', 'lgamma', 'log', 'log10', 'log1p', 'log2', 'modf', 'nan', 'pi', 'pow', 'radians', 'sin', 'sinh', 'sqrt', 'tan', 'tanh', 'tau', 'trunc']\n"
     ]
    }
   ],
   "source": [
    "import math \n",
    "print(dir(math))\n",
    "\n"
   ]
  },
  {
   "cell_type": "code",
   "execution_count": 1,
   "metadata": {
    "collapsed": true
   },
   "outputs": [],
   "source": [
    "#json java script object notation \n",
    "#dump - put data into file\n",
    "#load - read"
   ]
  },
  {
   "cell_type": "code",
   "execution_count": 30,
   "metadata": {},
   "outputs": [
    {
     "name": "stdout",
     "output_type": "stream",
     "text": [
      "g\n",
      "9\n",
      "om\n"
     ]
    }
   ],
   "source": [
    "s = \"something\"\n",
    "print(s[i])\n",
    "print(len(s))\n",
    "print(s[1:3])"
   ]
  },
  {
   "cell_type": "code",
   "execution_count": null,
   "metadata": {
    "collapsed": true
   },
   "outputs": [],
   "source": [
    "s "
   ]
  }
 ],
 "metadata": {
  "kernelspec": {
   "display_name": "Python 3",
   "language": "python",
   "name": "python3"
  },
  "language_info": {
   "codemirror_mode": {
    "name": "ipython",
    "version": 3
   },
   "file_extension": ".py",
   "mimetype": "text/x-python",
   "name": "python",
   "nbconvert_exporter": "python",
   "pygments_lexer": "ipython3",
   "version": "3.6.3"
  }
 },
 "nbformat": 4,
 "nbformat_minor": 2
}
