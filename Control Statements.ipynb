{
 "cells": [
  {
   "cell_type": "markdown",
   "metadata": {},
   "source": [
    "# Control Statements\n",
    "\n"
   ]
  },
  {
   "cell_type": "code",
   "execution_count": 1,
   "metadata": {
    "collapsed": true
   },
   "outputs": [],
   "source": [
    "#syntax\n",
    "#if condition : (: is defined as indenatation operator used to define block of code)\n",
    "    #statement 1\n",
    "    #statement 2\n",
    "    # \"\n",
    "    # \"\n",
    "    #statement n\n",
    "#else :\n",
    "    #statement 1\n",
    "    #statement 2\n",
    "    # \"\n",
    "    # \"\n",
    "    #statement n\n",
    "    "
   ]
  },
  {
   "cell_type": "code",
   "execution_count": 3,
   "metadata": {},
   "outputs": [
    {
     "name": "stdout",
     "output_type": "stream",
     "text": [
      "Enter a number : 5\n",
      "Odd\n"
     ]
    }
   ],
   "source": [
    "#Even odd code\n",
    "x = int(input(\"Enter a number : \"))\n",
    "if x % 2 == 0 :\n",
    "    print(\"Even\")\n",
    "else :\n",
    "    print(\"Odd\")\n"
   ]
  },
  {
   "cell_type": "code",
   "execution_count": 9,
   "metadata": {},
   "outputs": [
    {
     "name": "stdout",
     "output_type": "stream",
     "text": [
      "Enter a number 1 : 12\n",
      "Enter a number 2 : 34\n",
      "Enter a number 3 : 5\n",
      "34 is greatest\n"
     ]
    }
   ],
   "source": [
    "#Greatest among three number\n",
    "x = int(input(\"Enter a number 1 : \"))\n",
    "y = int(input(\"Enter a number 2 : \"))\n",
    "z = int(input(\"Enter a number 3 : \"))\n",
    "if x >= y :\n",
    "    if x >= z :\n",
    "        print(\"{} is greatest\" .format(x))\n",
    "    else :\n",
    "        print(\"{} is greatest\".format(z))\n",
    "elif y >= z :\n",
    "    print(\"{} is greatest\" .format(y))\n",
    "else :\n",
    "    print(\"z is greatest\")\n"
   ]
  },
  {
   "cell_type": "code",
   "execution_count": null,
   "metadata": {
    "collapsed": true
   },
   "outputs": [],
   "source": []
  }
 ],
 "metadata": {
  "kernelspec": {
   "display_name": "Python 3",
   "language": "python",
   "name": "python3"
  },
  "language_info": {
   "codemirror_mode": {
    "name": "ipython",
    "version": 3
   },
   "file_extension": ".py",
   "mimetype": "text/x-python",
   "name": "python",
   "nbconvert_exporter": "python",
   "pygments_lexer": "ipython3",
   "version": "3.6.3"
  }
 },
 "nbformat": 4,
 "nbformat_minor": 2
}
