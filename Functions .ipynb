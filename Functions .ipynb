{
 "cells": [
  {
   "cell_type": "code",
   "execution_count": 1,
   "metadata": {
    "collapsed": true
   },
   "outputs": [],
   "source": [
    "#function is set of statements that are given to perform a specific tasks\n",
    "#1. function defination set of statements to perform a specific tasks\n",
    "#2. function calling : Calling of function\n",
    "#every functions return certain values\n",
    "#We write function for code reusability "
   ]
  },
  {
   "cell_type": "code",
   "execution_count": 2,
   "metadata": {
    "collapsed": true
   },
   "outputs": [],
   "source": [
    "#Function defination\n",
    "#def fun_name(arguments):\n",
    "  #statement 1\n",
    "  #statement 2\n",
    "  # loop 1\n",
    "  #loop 2\n",
    "  #return statement"
   ]
  },
  {
   "cell_type": "code",
   "execution_count": 3,
   "metadata": {
    "collapsed": true
   },
   "outputs": [],
   "source": [
    "def hello():\n",
    "    name = input(\"Enter your name :\")\n",
    "    print(\"Welcome {} to python functions.\".format(name))"
   ]
  },
  {
   "cell_type": "code",
   "execution_count": 4,
   "metadata": {},
   "outputs": [
    {
     "name": "stdout",
     "output_type": "stream",
     "text": [
      "Function calling starts\n",
      "Enter your name :Samridhi Prasad\n",
      "Welcome Samridhi Prasad to python functions :\n",
      "Function calling Finished\n",
      "None\n"
     ]
    }
   ],
   "source": [
    "print(\"Function calling starts\")\n",
    "x = hello()#this function returns no value therefore zero has being returned \n",
    "print(\"Function calling Finished\")\n",
    "print(x)"
   ]
  },
  {
   "cell_type": "code",
   "execution_count": 54,
   "metadata": {
    "collapsed": true
   },
   "outputs": [],
   "source": [
    "def convert_Dict(p,q,r,s):\n",
    "    \"\"\"convert_Dict(p,q,r,s)->This function takes 4 tuples with 2 value each and return a dictionary\"\"\"\n",
    " \n",
    "    \n",
    "    "
   ]
  },
  {
   "cell_type": "code",
   "execution_count": 55,
   "metadata": {
    "collapsed": true
   },
   "outputs": [],
   "source": [
    "#Types of arguments\n",
    "#1. Positional Arguments \n",
    "#2. Keyboard Argument\n",
    "#3. Default Argument "
   ]
  },
  {
   "cell_type": "code",
   "execution_count": 1,
   "metadata": {
    "collapsed": true
   },
   "outputs": [],
   "source": [
    "#Functions with arguments and returning value\n",
    "def calc(x,y,ch):#formal parameters\n",
    "    ch = ch.strip()\n",
    "    if ch == \"+\" :\n",
    "        return x+y\n",
    "    elif ch == '-':\n",
    "        return x -y\n",
    "    elif ch == '*':\n",
    "        return x * y\n",
    "    elif ch == '/' or ch == '//' or ch == '%':\n",
    "        if y == 0 :\n",
    "            return \"Invalid input!!Error Try again\"\n",
    "        elif ch == '/':\n",
    "            return x/y\n",
    "        elif ch == '//':\n",
    "            return x//y\n",
    "        else:\n",
    "            return x % y\n",
    "    \n",
    "    elif ch == '**' :\n",
    "        return x ** y\n",
    "    else :\n",
    "        return \"Invalid Operation \""
   ]
  },
  {
   "cell_type": "code",
   "execution_count": 2,
   "metadata": {},
   "outputs": [
    {
     "name": "stdout",
     "output_type": "stream",
     "text": [
      "1296\n"
     ]
    }
   ],
   "source": [
    "r = calc(6,4,'**')\n",
    "print(r)"
   ]
  },
  {
   "cell_type": "code",
   "execution_count": null,
   "metadata": {
    "collapsed": true
   },
   "outputs": [],
   "source": []
  }
 ],
 "metadata": {
  "kernelspec": {
   "display_name": "Python 3",
   "language": "python",
   "name": "python3"
  },
  "language_info": {
   "codemirror_mode": {
    "name": "ipython",
    "version": 3
   },
   "file_extension": ".py",
   "mimetype": "text/x-python",
   "name": "python",
   "nbconvert_exporter": "python",
   "pygments_lexer": "ipython3",
   "version": "3.6.3"
  }
 },
 "nbformat": 4,
 "nbformat_minor": 2
}
