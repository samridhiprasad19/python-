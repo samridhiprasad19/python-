{
 "cells": [
  {
   "cell_type": "code",
   "execution_count": 2,
   "metadata": {},
   "outputs": [
    {
     "name": "stdout",
     "output_type": "stream",
     "text": [
      "File sucessfully created\n"
     ]
    }
   ],
   "source": [
    "import json \n",
    "f = open('bank.db','w')\n",
    "bank = {\n",
    "    'user' : ['ram','sam','vijay'],\n",
    "    'acc'  : [1001,1002,1003],\n",
    "    'pass' : ['grras@123','something','redhat'],\n",
    "    'balance':[10002.23,20000.45,123433.433]\n",
    "    \n",
    "}\n",
    "json.dump(bank,f)\n",
    "f.close()\n",
    "print(\"File sucessfully created\")"
   ]
  },
  {
   "cell_type": "code",
   "execution_count": 5,
   "metadata": {},
   "outputs": [
    {
     "name": "stdout",
     "output_type": "stream",
     "text": [
      "user=['ram', 'sam', 'vijay']\n",
      "acc=[1001, 1002, 1003]\n",
      "pass=['grras@123', 'something', 'redhat']\n",
      "balance=[10002.23, 20000.45, 123433.433]\n"
     ]
    }
   ],
   "source": [
    "import json\n",
    "f = open('bank.db')\n",
    "data = json.load(f)\n",
    "f.close\n",
    "for key,value in data.items() :\n",
    "    print('{}={}'.format(key,value))"
   ]
  },
  {
   "cell_type": "code",
   "execution_count": null,
   "metadata": {
    "collapsed": true
   },
   "outputs": [],
   "source": []
  }
 ],
 "metadata": {
  "kernelspec": {
   "display_name": "Python 3",
   "language": "python",
   "name": "python3"
  },
  "language_info": {
   "codemirror_mode": {
    "name": "ipython",
    "version": 3
   },
   "file_extension": ".py",
   "mimetype": "text/x-python",
   "name": "python",
   "nbconvert_exporter": "python",
   "pygments_lexer": "ipython3",
   "version": "3.6.3"
  }
 },
 "nbformat": 4,
 "nbformat_minor": 2
}
